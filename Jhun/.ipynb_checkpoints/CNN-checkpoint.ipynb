{
 "cells": [
  {
   "cell_type": "code",
   "execution_count": 117,
   "id": "b0022c89",
   "metadata": {},
   "outputs": [],
   "source": [
    "import os\n",
    "import pandas as pd\n",
    "import io\n",
    "import numpy as np\n",
    "import seaborn as sns\n",
    "import matplotlib.pyplot as plt\n",
    "\n",
    "\n",
    "data_path =  os.getenv('HOME')+\"/aiffel/prj/train_bert.csv\"\n",
    "df = pd.read_csv(data_path)"
   ]
  },
  {
   "cell_type": "code",
   "execution_count": 118,
   "id": "02e07b08",
   "metadata": {},
   "outputs": [
    {
     "name": "stdout",
     "output_type": "stream",
     "text": [
      "슝=3\n"
     ]
    }
   ],
   "source": [
    "import matplotlib as mpl\n",
    "import matplotlib.pyplot as plt\n",
    "import matplotlib.font_manager as fm\n",
    "\n",
    "%config InlineBackend.figure_format = 'retina'\n",
    " \n",
    "fontpath = '/usr/share/fonts/truetype/nanum/NanumBarunGothic.ttf'\n",
    "font = fm.FontProperties(fname=fontpath, size=9)\n",
    "plt.rc('font', family='NanumBarunGothic') \n",
    "mpl.font_manager.findfont(font)\n",
    "\n",
    "print(\"슝=3\")"
   ]
  },
  {
   "cell_type": "code",
   "execution_count": 119,
   "id": "2966e485",
   "metadata": {},
   "outputs": [
    {
     "data": {
      "text/html": [
       "<div>\n",
       "<style scoped>\n",
       "    .dataframe tbody tr th:only-of-type {\n",
       "        vertical-align: middle;\n",
       "    }\n",
       "\n",
       "    .dataframe tbody tr th {\n",
       "        vertical-align: top;\n",
       "    }\n",
       "\n",
       "    .dataframe thead th {\n",
       "        text-align: right;\n",
       "    }\n",
       "</style>\n",
       "<table border=\"1\" class=\"dataframe\">\n",
       "  <thead>\n",
       "    <tr style=\"text-align: right;\">\n",
       "      <th></th>\n",
       "      <th>idx</th>\n",
       "      <th>class</th>\n",
       "      <th>conversation</th>\n",
       "      <th>text</th>\n",
       "      <th>bert_text</th>\n",
       "    </tr>\n",
       "  </thead>\n",
       "  <tbody>\n",
       "    <tr>\n",
       "      <th>0</th>\n",
       "      <td>0</td>\n",
       "      <td>협박 대화</td>\n",
       "      <td>지금 너 스스로를 죽여달라고 애원하는 것인가?\\n 아닙니다. 죄송합니다.\\n 죽을 ...</td>\n",
       "      <td>지금 너 스스로를 죽여달라고 애원하는 것인가  아닙니다 죄송합니다  죽을 거면 혼자...</td>\n",
       "      <td>[CLS] 지금 너 스스로를 죽여달라고 애원하는 것인가? [SEP] 아닙니다. 죄송...</td>\n",
       "    </tr>\n",
       "    <tr>\n",
       "      <th>1</th>\n",
       "      <td>1</td>\n",
       "      <td>협박 대화</td>\n",
       "      <td>길동경찰서입니다.\\n9시 40분 마트에 폭발물을 설치할거다.\\n네?\\n똑바로 들어 ...</td>\n",
       "      <td>길동경찰서입니다 9시 40분 마트에 폭발물을 설치할거다 네 똑바로 들어 한번만 더 ...</td>\n",
       "      <td>[CLS] 길동경찰서입니다. [SEP] 9시 40분 마트에 폭발물을 설치할거다. [...</td>\n",
       "    </tr>\n",
       "    <tr>\n",
       "      <th>2</th>\n",
       "      <td>2</td>\n",
       "      <td>기타 괴롭힘 대화</td>\n",
       "      <td>너 되게 귀여운거 알지? 나보다 작은 남자는 첨봤어.\\n그만해. 니들 놀리는거 재미...</td>\n",
       "      <td>너 되게 귀여운거 알지 나보다 작은 남자는 첨봤어 그만해 니들 놀리는거 재미없어 지...</td>\n",
       "      <td>[CLS] 너 되게 귀여운거 알지? 나보다 작은 남자는 첨봤어. [SEP] 그만해....</td>\n",
       "    </tr>\n",
       "    <tr>\n",
       "      <th>3</th>\n",
       "      <td>3</td>\n",
       "      <td>갈취 대화</td>\n",
       "      <td>어이 거기\\n예??\\n너 말이야 너. 이리 오라고\\n무슨 일.\\n너 옷 좋아보인다?...</td>\n",
       "      <td>어이 거기 예  너 말이야 너 이리 오라고 무슨 일 너 옷 좋아보인다 얘 돈 좀 있...</td>\n",
       "      <td>[CLS] 어이 거기 [SEP] 예?? [SEP] 너 말이야 너. 이리 오라고 [S...</td>\n",
       "    </tr>\n",
       "    <tr>\n",
       "      <th>4</th>\n",
       "      <td>4</td>\n",
       "      <td>갈취 대화</td>\n",
       "      <td>저기요 혹시 날이 너무 뜨겁잖아요? 저희 회사에서 이 선크림 파는데 한 번 손등에 ...</td>\n",
       "      <td>저기요 혹시 날이 너무 뜨겁잖아요 저희 회사에서 이 선크림 파는데 한 번 손등에 발...</td>\n",
       "      <td>[CLS] 저기요 혹시 날이 너무 뜨겁잖아요? 저희 회사에서 이 선크림 파는데 한 ...</td>\n",
       "    </tr>\n",
       "  </tbody>\n",
       "</table>\n",
       "</div>"
      ],
      "text/plain": [
       "   idx      class                                       conversation  \\\n",
       "0    0      협박 대화  지금 너 스스로를 죽여달라고 애원하는 것인가?\\n 아닙니다. 죄송합니다.\\n 죽을 ...   \n",
       "1    1      협박 대화  길동경찰서입니다.\\n9시 40분 마트에 폭발물을 설치할거다.\\n네?\\n똑바로 들어 ...   \n",
       "2    2  기타 괴롭힘 대화  너 되게 귀여운거 알지? 나보다 작은 남자는 첨봤어.\\n그만해. 니들 놀리는거 재미...   \n",
       "3    3      갈취 대화  어이 거기\\n예??\\n너 말이야 너. 이리 오라고\\n무슨 일.\\n너 옷 좋아보인다?...   \n",
       "4    4      갈취 대화  저기요 혹시 날이 너무 뜨겁잖아요? 저희 회사에서 이 선크림 파는데 한 번 손등에 ...   \n",
       "\n",
       "                                                text  \\\n",
       "0  지금 너 스스로를 죽여달라고 애원하는 것인가  아닙니다 죄송합니다  죽을 거면 혼자...   \n",
       "1  길동경찰서입니다 9시 40분 마트에 폭발물을 설치할거다 네 똑바로 들어 한번만 더 ...   \n",
       "2  너 되게 귀여운거 알지 나보다 작은 남자는 첨봤어 그만해 니들 놀리는거 재미없어 지...   \n",
       "3  어이 거기 예  너 말이야 너 이리 오라고 무슨 일 너 옷 좋아보인다 얘 돈 좀 있...   \n",
       "4  저기요 혹시 날이 너무 뜨겁잖아요 저희 회사에서 이 선크림 파는데 한 번 손등에 발...   \n",
       "\n",
       "                                           bert_text  \n",
       "0  [CLS] 지금 너 스스로를 죽여달라고 애원하는 것인가? [SEP] 아닙니다. 죄송...  \n",
       "1  [CLS] 길동경찰서입니다. [SEP] 9시 40분 마트에 폭발물을 설치할거다. [...  \n",
       "2  [CLS] 너 되게 귀여운거 알지? 나보다 작은 남자는 첨봤어. [SEP] 그만해....  \n",
       "3  [CLS] 어이 거기 [SEP] 예?? [SEP] 너 말이야 너. 이리 오라고 [S...  \n",
       "4  [CLS] 저기요 혹시 날이 너무 뜨겁잖아요? 저희 회사에서 이 선크림 파는데 한 ...  "
      ]
     },
     "execution_count": 119,
     "metadata": {},
     "output_type": "execute_result"
    }
   ],
   "source": [
    "df.head()"
   ]
  },
  {
   "cell_type": "code",
   "execution_count": 120,
   "id": "efba0d4b",
   "metadata": {},
   "outputs": [
    {
     "name": "stdout",
     "output_type": "stream",
     "text": [
      "담화의 최대 길이 :842\n",
      "담화의 평균 길이 :215.85037974683544\n"
     ]
    },
    {
     "data": {
      "image/png": "[encoded data removed]",
      "text/plain": [
       "<Figure size 432x288 with 1 Axes>"
      ]
     },
     "metadata": {
      "image/png": {
       "height": 264,
       "width": 388
      },
      "needs_background": "light"
     },
     "output_type": "display_data"
    }
   ],
   "source": [
    "print('담화의 최대 길이 :{}'.format(max(len(sample) for sample in df['text'])))\n",
    "print('담화의 평균 길이 :{}'.format(sum(map(len, df['text']))/len(df['text'])))\n",
    "\n",
    "plt.hist([len(sample) for sample in df['text']], bins=50)\n",
    "plt.xlabel('length of samples')\n",
    "plt.ylabel('number of samples')\n",
    "plt.show()"
   ]
  },
  {
   "cell_type": "code",
   "execution_count": 121,
   "id": "34d2d2f5",
   "metadata": {},
   "outputs": [
    {
     "name": "stdout",
     "output_type": "stream",
     "text": [
      "['협박 대화' '기타 괴롭힘 대화' '갈취 대화' '직장 내 괴롭힘 대화']\n"
     ]
    }
   ],
   "source": [
    "print(df['class'].unique())"
   ]
  },
  {
   "cell_type": "code",
   "execution_count": 122,
   "id": "7e48573e",
   "metadata": {},
   "outputs": [
    {
     "name": "stdout",
     "output_type": "stream",
     "text": [
      "협박 대화 의 최대 길이 :807\n",
      "협박 대화 의 평균 길이 :234.85714285714286\n"
     ]
    },
    {
     "data": {
      "image/png": "[encoded data removed]",
      "text/plain": [
       "<Figure size 432x288 with 1 Axes>"
      ]
     },
     "metadata": {
      "image/png": {
       "height": 264,
       "width": 382
      },
      "needs_background": "light"
     },
     "output_type": "display_data"
    },
    {
     "name": "stdout",
     "output_type": "stream",
     "text": [
      "기타 괴롭힘 대화 의 최대 길이 :842\n",
      "기타 괴롭힘 대화 의 평균 길이 :199.94149908592323\n"
     ]
    },
    {
     "data": {
      "image/png": "[encoded data removed]",
      "text/plain": [
       "<Figure size 432x288 with 1 Axes>"
      ]
     },
     "metadata": {
      "image/png": {
       "height": 264,
       "width": 388
      },
      "needs_background": "light"
     },
     "output_type": "display_data"
    },
    {
     "name": "stdout",
     "output_type": "stream",
     "text": [
      "갈취 대화 의 최대 길이 :658\n",
      "갈취 대화 의 평균 길이 :205.47604485219165\n"
     ]
    },
    {
     "data": {
      "image/png": "[encoded data removed]",
      "text/plain": [
       "<Figure size 432x288 with 1 Axes>"
      ]
     },
     "metadata": {
      "image/png": {
       "height": 264,
       "width": 382
      },
      "needs_background": "light"
     },
     "output_type": "display_data"
    },
    {
     "name": "stdout",
     "output_type": "stream",
     "text": [
      "직장 내 괴롭힘 대화 의 최대 길이 :810\n",
      "직장 내 괴롭힘 대화 의 평균 길이 :226.62819203268643\n"
     ]
    },
    {
     "data": {
      "image/png": "[encoded data removed]",
      "text/plain": [
       "<Figure size 432x288 with 1 Axes>"
      ]
     },
     "metadata": {
      "image/png": {
       "height": 264,
       "width": 382
      },
      "needs_background": "light"
     },
     "output_type": "display_data"
    }
   ],
   "source": [
    "class_lst = ['협박 대화', '기타 괴롭힘 대화', '갈취 대화', '직장 내 괴롭힘 대화']\n",
    "\n",
    "for i in class_lst:\n",
    "    print('{}의 최대 길이 :{}'.format(i+' ',max(len(sample) for sample in df[df['class']==i]['text'])))\n",
    "    print('{}의 평균 길이 :{}'.format(i+' ',sum(map(len, df[df['class']==i]['text']))/len(df[df['class']==i]['text'])))\n",
    "    plt.hist([len(sample) for sample in df[df['class']==i]['text']], bins=50)\n",
    "    plt.xlabel('length of samples')\n",
    "    plt.ylabel('number of samples')\n",
    "    plt.show()\n"
   ]
  },
  {
   "cell_type": "markdown",
   "id": "7b0217e6",
   "metadata": {},
   "source": [
    "- 분포 자체는 크게 차이가 안나는 것 같음..?\n"
   ]
  },
  {
   "cell_type": "code",
   "execution_count": 123,
   "id": "ecb69b9e",
   "metadata": {},
   "outputs": [
    {
     "name": "stderr",
     "output_type": "stream",
     "text": [
      "/opt/conda/lib/python3.9/site-packages/seaborn/_decorators.py:36: FutureWarning: Pass the following variable as a keyword arg: x. From version 0.12, the only valid positional argument will be `data`, and passing other arguments without an explicit keyword will result in an error or misinterpretation.\n",
      "  warnings.warn(\n"
     ]
    },
    {
     "data": {
      "text/plain": [
       "<AxesSubplot:xlabel='class', ylabel='count'>"
      ]
     },
     "execution_count": 123,
     "metadata": {},
     "output_type": "execute_result"
    },
    {
     "data": {
      "image/png": "[encoded data removed]",
      "text/plain": [
       "<Figure size 864x360 with 1 Axes>"
      ]
     },
     "metadata": {
      "image/png": {
       "height": 319,
       "width": 729
      },
      "needs_background": "light"
     },
     "output_type": "display_data"
    }
   ],
   "source": [
    "fig, axe = plt.subplots(ncols=1)\n",
    "fig.set_size_inches(12,5)\n",
    "sns.countplot(df['class'])"
   ]
  },
  {
   "cell_type": "code",
   "execution_count": 124,
   "id": "f0afdf6d",
   "metadata": {},
   "outputs": [
    {
     "name": "stderr",
     "output_type": "stream",
     "text": [
      "/tmp/ipykernel_1598/3360627733.py:1: SettingWithCopyWarning: \n",
      "A value is trying to be set on a copy of a slice from a DataFrame.\n",
      "Try using .loc[row_indexer,col_indexer] = value instead\n",
      "\n",
      "See the caveats in the documentation: https://pandas.pydata.org/pandas-docs/stable/user_guide/indexing.html#returning-a-view-versus-a-copy\n",
      "  df[df['class']==class_lst[0]]['class'] = 0 #협박 대화는 0으로 변경\n"
     ]
    }
   ],
   "source": [
    "df[df['class']==class_lst[0]]['class'] = 0 #협박 대화는 0으로 변경"
   ]
  },
  {
   "cell_type": "code",
   "execution_count": 125,
   "id": "78c32879",
   "metadata": {},
   "outputs": [
    {
     "name": "stderr",
     "output_type": "stream",
     "text": [
      "/tmp/ipykernel_1598/3027983119.py:6: SettingWithCopyWarning: \n",
      "A value is trying to be set on a copy of a slice from a DataFrame\n",
      "\n",
      "See the caveats in the documentation: https://pandas.pydata.org/pandas-docs/stable/user_guide/indexing.html#returning-a-view-versus-a-copy\n",
      "  df['class'][i] = 0\n",
      "/tmp/ipykernel_1598/3027983119.py:8: SettingWithCopyWarning: \n",
      "A value is trying to be set on a copy of a slice from a DataFrame\n",
      "\n",
      "See the caveats in the documentation: https://pandas.pydata.org/pandas-docs/stable/user_guide/indexing.html#returning-a-view-versus-a-copy\n",
      "  df['class'][i] = 1\n",
      "/tmp/ipykernel_1598/3027983119.py:10: SettingWithCopyWarning: \n",
      "A value is trying to be set on a copy of a slice from a DataFrame\n",
      "\n",
      "See the caveats in the documentation: https://pandas.pydata.org/pandas-docs/stable/user_guide/indexing.html#returning-a-view-versus-a-copy\n",
      "  df['class'][i] = 2\n",
      "/tmp/ipykernel_1598/3027983119.py:12: SettingWithCopyWarning: \n",
      "A value is trying to be set on a copy of a slice from a DataFrame\n",
      "\n",
      "See the caveats in the documentation: https://pandas.pydata.org/pandas-docs/stable/user_guide/indexing.html#returning-a-view-versus-a-copy\n",
      "  df['class'][i] = 3\n"
     ]
    },
    {
     "data": {
      "text/html": [
       "<div>\n",
       "<style scoped>\n",
       "    .dataframe tbody tr th:only-of-type {\n",
       "        vertical-align: middle;\n",
       "    }\n",
       "\n",
       "    .dataframe tbody tr th {\n",
       "        vertical-align: top;\n",
       "    }\n",
       "\n",
       "    .dataframe thead th {\n",
       "        text-align: right;\n",
       "    }\n",
       "</style>\n",
       "<table border=\"1\" class=\"dataframe\">\n",
       "  <thead>\n",
       "    <tr style=\"text-align: right;\">\n",
       "      <th></th>\n",
       "      <th>idx</th>\n",
       "      <th>class</th>\n",
       "      <th>conversation</th>\n",
       "      <th>text</th>\n",
       "      <th>bert_text</th>\n",
       "    </tr>\n",
       "  </thead>\n",
       "  <tbody>\n",
       "    <tr>\n",
       "      <th>0</th>\n",
       "      <td>0</td>\n",
       "      <td>0</td>\n",
       "      <td>지금 너 스스로를 죽여달라고 애원하는 것인가?\\n 아닙니다. 죄송합니다.\\n 죽을 ...</td>\n",
       "      <td>지금 너 스스로를 죽여달라고 애원하는 것인가  아닙니다 죄송합니다  죽을 거면 혼자...</td>\n",
       "      <td>[CLS] 지금 너 스스로를 죽여달라고 애원하는 것인가? [SEP] 아닙니다. 죄송...</td>\n",
       "    </tr>\n",
       "    <tr>\n",
       "      <th>1</th>\n",
       "      <td>1</td>\n",
       "      <td>0</td>\n",
       "      <td>길동경찰서입니다.\\n9시 40분 마트에 폭발물을 설치할거다.\\n네?\\n똑바로 들어 ...</td>\n",
       "      <td>길동경찰서입니다 9시 40분 마트에 폭발물을 설치할거다 네 똑바로 들어 한번만 더 ...</td>\n",
       "      <td>[CLS] 길동경찰서입니다. [SEP] 9시 40분 마트에 폭발물을 설치할거다. [...</td>\n",
       "    </tr>\n",
       "    <tr>\n",
       "      <th>2</th>\n",
       "      <td>2</td>\n",
       "      <td>1</td>\n",
       "      <td>너 되게 귀여운거 알지? 나보다 작은 남자는 첨봤어.\\n그만해. 니들 놀리는거 재미...</td>\n",
       "      <td>너 되게 귀여운거 알지 나보다 작은 남자는 첨봤어 그만해 니들 놀리는거 재미없어 지...</td>\n",
       "      <td>[CLS] 너 되게 귀여운거 알지? 나보다 작은 남자는 첨봤어. [SEP] 그만해....</td>\n",
       "    </tr>\n",
       "    <tr>\n",
       "      <th>3</th>\n",
       "      <td>3</td>\n",
       "      <td>2</td>\n",
       "      <td>어이 거기\\n예??\\n너 말이야 너. 이리 오라고\\n무슨 일.\\n너 옷 좋아보인다?...</td>\n",
       "      <td>어이 거기 예  너 말이야 너 이리 오라고 무슨 일 너 옷 좋아보인다 얘 돈 좀 있...</td>\n",
       "      <td>[CLS] 어이 거기 [SEP] 예?? [SEP] 너 말이야 너. 이리 오라고 [S...</td>\n",
       "    </tr>\n",
       "    <tr>\n",
       "      <th>4</th>\n",
       "      <td>4</td>\n",
       "      <td>2</td>\n",
       "      <td>저기요 혹시 날이 너무 뜨겁잖아요? 저희 회사에서 이 선크림 파는데 한 번 손등에 ...</td>\n",
       "      <td>저기요 혹시 날이 너무 뜨겁잖아요 저희 회사에서 이 선크림 파는데 한 번 손등에 발...</td>\n",
       "      <td>[CLS] 저기요 혹시 날이 너무 뜨겁잖아요? 저희 회사에서 이 선크림 파는데 한 ...</td>\n",
       "    </tr>\n",
       "  </tbody>\n",
       "</table>\n",
       "</div>"
      ],
      "text/plain": [
       "   idx class                                       conversation  \\\n",
       "0    0     0  지금 너 스스로를 죽여달라고 애원하는 것인가?\\n 아닙니다. 죄송합니다.\\n 죽을 ...   \n",
       "1    1     0  길동경찰서입니다.\\n9시 40분 마트에 폭발물을 설치할거다.\\n네?\\n똑바로 들어 ...   \n",
       "2    2     1  너 되게 귀여운거 알지? 나보다 작은 남자는 첨봤어.\\n그만해. 니들 놀리는거 재미...   \n",
       "3    3     2  어이 거기\\n예??\\n너 말이야 너. 이리 오라고\\n무슨 일.\\n너 옷 좋아보인다?...   \n",
       "4    4     2  저기요 혹시 날이 너무 뜨겁잖아요? 저희 회사에서 이 선크림 파는데 한 번 손등에 ...   \n",
       "\n",
       "                                                text  \\\n",
       "0  지금 너 스스로를 죽여달라고 애원하는 것인가  아닙니다 죄송합니다  죽을 거면 혼자...   \n",
       "1  길동경찰서입니다 9시 40분 마트에 폭발물을 설치할거다 네 똑바로 들어 한번만 더 ...   \n",
       "2  너 되게 귀여운거 알지 나보다 작은 남자는 첨봤어 그만해 니들 놀리는거 재미없어 지...   \n",
       "3  어이 거기 예  너 말이야 너 이리 오라고 무슨 일 너 옷 좋아보인다 얘 돈 좀 있...   \n",
       "4  저기요 혹시 날이 너무 뜨겁잖아요 저희 회사에서 이 선크림 파는데 한 번 손등에 발...   \n",
       "\n",
       "                                           bert_text  \n",
       "0  [CLS] 지금 너 스스로를 죽여달라고 애원하는 것인가? [SEP] 아닙니다. 죄송...  \n",
       "1  [CLS] 길동경찰서입니다. [SEP] 9시 40분 마트에 폭발물을 설치할거다. [...  \n",
       "2  [CLS] 너 되게 귀여운거 알지? 나보다 작은 남자는 첨봤어. [SEP] 그만해....  \n",
       "3  [CLS] 어이 거기 [SEP] 예?? [SEP] 너 말이야 너. 이리 오라고 [S...  \n",
       "4  [CLS] 저기요 혹시 날이 너무 뜨겁잖아요? 저희 회사에서 이 선크림 파는데 한 ...  "
      ]
     },
     "execution_count": 125,
     "metadata": {},
     "output_type": "execute_result"
    }
   ],
   "source": [
    "class_lst = ['협박 대화', '갈취 대화', '직장 내 괴롭힘 대화', '기타 괴롭힘 대화']\n",
    "\n",
    "\n",
    "for i in range(len(df)):\n",
    "    if df['class'][i] == class_lst[0]: #협박 대화\n",
    "        df['class'][i] = 0\n",
    "    elif df['class'][i] == class_lst[1]: #갈취 대화\n",
    "        df['class'][i] = 1\n",
    "    elif df['class'][i] == class_lst[2]: #직장 내 괴롭힘 대화\n",
    "        df['class'][i] = 2\n",
    "    elif df['class'][i] == class_lst[3]: #기타 괴롭힘 대화\n",
    "        df['class'][i] = 3\n",
    "df.head()"
   ]
  },
  {
   "cell_type": "code",
   "execution_count": 126,
   "id": "cd54487c",
   "metadata": {},
   "outputs": [
    {
     "name": "stdout",
     "output_type": "stream",
     "text": [
      "idx             0\n",
      "class           0\n",
      "conversation    0\n",
      "text            0\n",
      "bert_text       0\n",
      "dtype: int64\n"
     ]
    },
    {
     "name": "stderr",
     "output_type": "stream",
     "text": [
      "/tmp/ipykernel_1598/1700326002.py:1: FutureWarning: The default value of regex will change from True to False in a future version.\n",
      "  df['text'] = df['text'].str.replace('^ +', \"\") # white space 데이터를 empty value로 변경\n"
     ]
    }
   ],
   "source": [
    "df['text'] = df['text'].str.replace('^ +', \"\") # white space 데이터를 empty value로 변경\n",
    "df['text'].replace('', np.nan, inplace=True)\n",
    "print(df.isnull().sum())"
   ]
  },
  {
   "cell_type": "markdown",
   "id": "96165775",
   "metadata": {},
   "source": [
    "```\n",
    "# 잔여 null값 제거 코드 하지만 없기에 실행 안함\n",
    "df = df.dropna(how = 'any')\n",
    "print(len(df))\n",
    "```"
   ]
  },
  {
   "cell_type": "code",
   "execution_count": 127,
   "id": "f52a9015",
   "metadata": {},
   "outputs": [
    {
     "data": {
      "text/plain": [
       "['가', '가까스로', '가령', '각', '각각']"
      ]
     },
     "execution_count": 127,
     "metadata": {},
     "output_type": "execute_result"
    }
   ],
   "source": [
    "# 불용어 lst 호출\n",
    "stopwords = []\n",
    "with open(\"stopwords.txt\", \"r\") as f:\n",
    "    for line in f:\n",
    "        stopwords.append(line.replace('\\n',''))#print(line.strip())\n",
    "stopwords[:5]"
   ]
  },
  {
   "cell_type": "code",
   "execution_count": 128,
   "id": "e40b465c",
   "metadata": {},
   "outputs": [],
   "source": [
    "from konlpy.tag import Hannanum,Kkma,Komoran,Mecab,Okt #다 불러오지만 mecab만 쓸 예정\n",
    "# okt = Okt()\n",
    "# han = Hannanum()\n",
    "# kkma = Kkma()\n",
    "# komo = Komoran()\n",
    "mec = Mecab()"
   ]
  },
  {
   "cell_type": "code",
   "execution_count": 129,
   "id": "8a9e1275",
   "metadata": {},
   "outputs": [],
   "source": [
    "test_path =  os.getenv('HOME')+\"/aiffel/prj/test.csv\"\n",
    "df_test = pd.read_csv(test_path)"
   ]
  },
  {
   "cell_type": "code",
   "execution_count": 130,
   "id": "06b2d1b8",
   "metadata": {},
   "outputs": [
    {
     "name": "stderr",
     "output_type": "stream",
     "text": [
      "100%|██████████| 3950/3950 [00:05<00:00, 749.90it/s]\n",
      "100%|██████████| 400/400 [00:00<00:00, 714.71it/s]\n"
     ]
    }
   ],
   "source": [
    "#mecab으로 토큰화 진행\n",
    "from tqdm import tqdm\n",
    "X_mec_train = []\n",
    "for sentence in tqdm(df['text']):\n",
    "    tokenized_sentence = mec.morphs(sentence) # 토큰화\n",
    "    stopwords_removed_sentence = [word for word in tokenized_sentence if not word in stopwords] # 불용어 제거\n",
    "    X_mec_train.append(stopwords_removed_sentence)\n",
    "\n",
    "X_mec_test = []\n",
    "for sentence in tqdm(df_test['text']):\n",
    "    tokenized_sentence = mec.morphs(sentence) # 토큰화\n",
    "    stopwords_removed_sentence = [word for word in tokenized_sentence if not word in stopwords] # 불용어 제거\n",
    "    X_mec_test.append(stopwords_removed_sentence)\n"
   ]
  },
  {
   "cell_type": "code",
   "execution_count": 131,
   "id": "695fe0b8",
   "metadata": {},
   "outputs": [],
   "source": [
    "import copy\n",
    "X_mec_train_copy = copy.deepcopy(X_mec_train)"
   ]
  },
  {
   "cell_type": "code",
   "execution_count": 132,
   "id": "26aa6f4b",
   "metadata": {},
   "outputs": [
    {
     "name": "stdout",
     "output_type": "stream",
     "text": [
      "['지금', '스스로', '죽여', '달', '라고', '애원', '는', '인가', '아닙니다', '죄송', '합니다', '죽', '거', '면', '죽', '지', '사건', '휘말리', '게', '해', '진짜', '죽여', '버리', '고', '싶', '게', '정말', '잘못', '했', '선택', '해', '죽', '을래', '가족', '죽여', '줄까', '죄송', '합니다', '정말', '잘못', '했', '는', '선택', '권', '없', '선택', '못', '가족', '모조리', '죽여', '버릴', '거', '선택', '못', '겠', '한', '번', '만', '도와', '주', '세요', '그냥', '다', '죽여', '버려야', '겠', '군', '없', '지', '제발', '도와', '주', '세요']\n"
     ]
    }
   ],
   "source": [
    "print(X_mec_train[0])"
   ]
  },
  {
   "cell_type": "code",
   "execution_count": 133,
   "id": "2e1f2bfa",
   "metadata": {},
   "outputs": [],
   "source": [
    "from tensorflow.keras.preprocessing.text import Tokenizer\n",
    "\n",
    "tokenizer_mec = Tokenizer()\n",
    "tokenizer_mec.fit_on_texts(X_mec_train)\n",
    "tokenizer_mec.fit_on_texts(X_mec_test)"
   ]
  },
  {
   "cell_type": "code",
   "execution_count": 134,
   "id": "5abf2135",
   "metadata": {},
   "outputs": [
    {
     "name": "stdout",
     "output_type": "stream",
     "text": [
      "mecab word index : 13406\n"
     ]
    }
   ],
   "source": [
    "print('mecab word index : '+str(len(tokenizer_mec.word_index))) #단어 12829개"
   ]
  },
  {
   "cell_type": "code",
   "execution_count": 135,
   "id": "b2b00266",
   "metadata": {},
   "outputs": [],
   "source": [
    "vocab_size = len(tokenizer_mec.word_index)\n",
    "X_mec_train = tokenizer_mec.texts_to_sequences(X_mec_train)"
   ]
  },
  {
   "cell_type": "code",
   "execution_count": 136,
   "id": "d6d92bda",
   "metadata": {},
   "outputs": [
    {
     "name": "stdout",
     "output_type": "stream",
     "text": [
      "[38, 1791, 165, 104, 41, 5820, 1, 431, 140, 26, 29, 52, 3, 13, 52, 4, 2448, 8014, 9, 8, 36, 165, 213, 2, 59, 9, 91, 111, 31, 997, 8, 52, 520, 172, 165, 561, 26, 29, 91, 111, 31, 1, 997, 1095, 16, 997, 35, 172, 4057, 165, 190, 3, 997, 35, 15, 21, 75, 18, 272, 17, 27, 50, 11, 165, 1233, 15, 800, 16, 4, 56, 272, 17, 27]\n"
     ]
    }
   ],
   "source": [
    "print(X_mec_train[0])"
   ]
  },
  {
   "cell_type": "code",
   "execution_count": 137,
   "id": "c5dd3bf4",
   "metadata": {},
   "outputs": [
    {
     "name": "stdout",
     "output_type": "stream",
     "text": [
      "담화의 최대 길이 : 305\n"
     ]
    }
   ],
   "source": [
    "print('담화의 최대 길이 :',max(len(review) for review in X_mec_train))"
   ]
  },
  {
   "cell_type": "code",
   "execution_count": 138,
   "id": "ced018df",
   "metadata": {},
   "outputs": [],
   "source": [
    "#padding은 전체 기준으로 진행\n",
    "import tensorflow as tf\n",
    "from tensorflow.keras.preprocessing.sequence import pad_sequences\n",
    "\n",
    "X_mec_train = pad_sequences(X_mec_train, maxlen = 305)"
   ]
  },
  {
   "cell_type": "code",
   "execution_count": 139,
   "id": "4a9f8e9c",
   "metadata": {},
   "outputs": [],
   "source": [
    "y = []\n",
    "for i in range(len(df)):\n",
    "    y.append(df['class'][i])"
   ]
  },
  {
   "cell_type": "code",
   "execution_count": 170,
   "id": "d5980cdd",
   "metadata": {},
   "outputs": [
    {
     "data": {
      "text/plain": [
       "0"
      ]
     },
     "execution_count": 170,
     "metadata": {},
     "output_type": "execute_result"
    }
   ],
   "source": [
    "y[0]"
   ]
  },
  {
   "cell_type": "code",
   "execution_count": 140,
   "id": "06ea4b23",
   "metadata": {},
   "outputs": [],
   "source": [
    "from tensorflow.keras.utils import to_categorical\n",
    "# print(y)\n",
    "y_data = to_categorical(y) # y[0] = [0,0,1,0]과 같은 형식으로 저장"
   ]
  },
  {
   "cell_type": "code",
   "execution_count": 173,
   "id": "5bff5459",
   "metadata": {},
   "outputs": [
    {
     "data": {
      "text/plain": [
       "array([0., 1., 0., 0.], dtype=float32)"
      ]
     },
     "execution_count": 173,
     "metadata": {},
     "output_type": "execute_result"
    }
   ],
   "source": [
    "y_data[2]"
   ]
  },
  {
   "cell_type": "code",
   "execution_count": 141,
   "id": "626e2395",
   "metadata": {},
   "outputs": [],
   "source": [
    "#train_test 분리\n",
    "from sklearn.model_selection import train_test_split\n",
    "\n",
    "# train_test_split\n",
    "x_train, x_valid, y_train, y_valid = train_test_split(X_mec_train, y_data, test_size=0.1, shuffle=True, random_state=34)"
   ]
  },
  {
   "cell_type": "code",
   "execution_count": 142,
   "id": "d5ee1f55",
   "metadata": {},
   "outputs": [
    {
     "name": "stdout",
     "output_type": "stream",
     "text": [
      "3555\n",
      "395\n",
      "3555\n",
      "395\n"
     ]
    }
   ],
   "source": [
    "print(len(x_train))\n",
    "print(len(x_valid))\n",
    "print(len(y_train))\n",
    "print(len(y_valid))\n"
   ]
  },
  {
   "cell_type": "code",
   "execution_count": 143,
   "id": "b030dc9b",
   "metadata": {},
   "outputs": [
    {
     "name": "stdout",
     "output_type": "stream",
     "text": [
      "Epoch 1/30\n",
      "28/28 [==============================] - 2s 39ms/step - loss: 1.3250 - acc: 0.3477 - val_loss: 1.2069 - val_acc: 0.5013\n",
      "\n",
      "Epoch 00001: val_acc improved from -inf to 0.50127, saving model to best_model.h5\n",
      "Epoch 2/30\n",
      "28/28 [==============================] - 1s 22ms/step - loss: 0.9985 - acc: 0.6414 - val_loss: 0.8028 - val_acc: 0.6658\n",
      "\n",
      "Epoch 00002: val_acc improved from 0.50127 to 0.66582, saving model to best_model.h5\n",
      "Epoch 3/30\n",
      "28/28 [==============================] - 1s 22ms/step - loss: 0.5560 - acc: 0.8242 - val_loss: 0.5459 - val_acc: 0.8051\n",
      "\n",
      "Epoch 00003: val_acc improved from 0.66582 to 0.80506, saving model to best_model.h5\n",
      "Epoch 4/30\n",
      "28/28 [==============================] - 1s 22ms/step - loss: 0.2753 - acc: 0.9145 - val_loss: 0.5141 - val_acc: 0.8152\n",
      "\n",
      "Epoch 00004: val_acc improved from 0.80506 to 0.81519, saving model to best_model.h5\n",
      "Epoch 5/30\n",
      "28/28 [==============================] - 1s 22ms/step - loss: 0.1378 - acc: 0.9578 - val_loss: 0.5853 - val_acc: 0.7924\n",
      "\n",
      "Epoch 00005: val_acc did not improve from 0.81519\n",
      "Epoch 6/30\n",
      "28/28 [==============================] - 1s 22ms/step - loss: 0.0940 - acc: 0.9778 - val_loss: 0.5137 - val_acc: 0.8329\n",
      "\n",
      "Epoch 00006: val_acc improved from 0.81519 to 0.83291, saving model to best_model.h5\n",
      "Epoch 7/30\n",
      "28/28 [==============================] - 1s 22ms/step - loss: 0.0413 - acc: 0.9899 - val_loss: 0.5385 - val_acc: 0.8456\n",
      "\n",
      "Epoch 00007: val_acc improved from 0.83291 to 0.84557, saving model to best_model.h5\n",
      "Epoch 8/30\n",
      "28/28 [==============================] - 1s 22ms/step - loss: 0.0274 - acc: 0.9944 - val_loss: 0.4878 - val_acc: 0.8430\n",
      "\n",
      "Epoch 00008: val_acc did not improve from 0.84557\n",
      "Epoch 9/30\n",
      "28/28 [==============================] - 1s 22ms/step - loss: 0.0237 - acc: 0.9955 - val_loss: 0.6088 - val_acc: 0.8152\n",
      "\n",
      "Epoch 00009: val_acc did not improve from 0.84557\n",
      "Epoch 10/30\n",
      "28/28 [==============================] - 1s 22ms/step - loss: 0.0088 - acc: 0.9992 - val_loss: 0.6915 - val_acc: 0.8152\n",
      "\n",
      "Epoch 00010: val_acc did not improve from 0.84557\n",
      "Epoch 11/30\n",
      "28/28 [==============================] - 1s 22ms/step - loss: 0.0039 - acc: 0.9997 - val_loss: 0.7621 - val_acc: 0.8278\n",
      "\n",
      "Epoch 00011: val_acc did not improve from 0.84557\n",
      "Epoch 12/30\n",
      "28/28 [==============================] - 1s 22ms/step - loss: 0.0027 - acc: 0.9997 - val_loss: 0.7507 - val_acc: 0.8329\n",
      "\n",
      "Epoch 00012: val_acc did not improve from 0.84557\n",
      "Epoch 00012: early stopping\n"
     ]
    }
   ],
   "source": [
    "from tensorflow.keras.models import Sequential\n",
    "from tensorflow.keras.layers import Dense, LSTM, Embedding\n",
    "from tensorflow.keras.callbacks import EarlyStopping, ModelCheckpoint\n",
    "from tensorflow.keras.models import load_model\n",
    "\n",
    "embedding_dim = 128\n",
    "hidden_units = 128\n",
    "num_classes = 4\n",
    "\n",
    "model = Sequential()\n",
    "model.add(Embedding(vocab_size, embedding_dim))\n",
    "model.add(LSTM(hidden_units))\n",
    "model.add(Dense(num_classes, activation='softmax'))\n",
    "\n",
    "es = EarlyStopping(monitor='val_loss', mode='min', verbose=1, patience=4)\n",
    "mc = ModelCheckpoint('best_model.h5', monitor='val_acc', mode='max', verbose=1, save_best_only=True)\n",
    "\n",
    "model.compile(loss='categorical_crossentropy', optimizer='adam', metrics=['acc'])\n",
    "history = model.fit(x_train, y_train, batch_size=128, epochs=30, callbacks=[es, mc], validation_data=(x_valid, y_valid))"
   ]
  },
  {
   "cell_type": "code",
   "execution_count": 144,
   "id": "2225b310",
   "metadata": {},
   "outputs": [
    {
     "name": "stdout",
     "output_type": "stream",
     "text": [
      "13/13 [==============================] - 0s 10ms/step - loss: 0.5385 - acc: 0.8456\n",
      "\n",
      " 테스트 정확도: 0.8456\n"
     ]
    }
   ],
   "source": [
    "loaded_model = load_model('best_model.h5')\n",
    "print(\"\\n 테스트 정확도: %.4f\" % (loaded_model.evaluate(x_valid, y_valid)[1]))"
   ]
  },
  {
   "cell_type": "code",
   "execution_count": 145,
   "id": "809ac4ab",
   "metadata": {},
   "outputs": [
    {
     "data": {
      "image/png": "[encoded data removed]",
      "text/plain": [
       "<Figure size 432x288 with 1 Axes>"
      ]
     },
     "metadata": {
      "image/png": {
       "height": 280,
       "width": 385
      },
      "needs_background": "light"
     },
     "output_type": "display_data"
    }
   ],
   "source": [
    "epochs = range(1, len(history.history['acc']) + 1)\n",
    "plt.plot(epochs, history.history['loss'])\n",
    "plt.plot(epochs, history.history['val_loss'])\n",
    "plt.title('model loss')\n",
    "plt.ylabel('loss')\n",
    "plt.xlabel('epoch')\n",
    "plt.legend(['train', 'test'], loc='upper left')\n",
    "plt.show()"
   ]
  },
  {
   "cell_type": "code",
   "execution_count": 181,
   "id": "850137c6",
   "metadata": {},
   "outputs": [
    {
     "data": {
      "text/html": [
       "<div>\n",
       "<style scoped>\n",
       "    .dataframe tbody tr th:only-of-type {\n",
       "        vertical-align: middle;\n",
       "    }\n",
       "\n",
       "    .dataframe tbody tr th {\n",
       "        vertical-align: top;\n",
       "    }\n",
       "\n",
       "    .dataframe thead th {\n",
       "        text-align: right;\n",
       "    }\n",
       "</style>\n",
       "<table border=\"1\" class=\"dataframe\">\n",
       "  <thead>\n",
       "    <tr style=\"text-align: right;\">\n",
       "      <th></th>\n",
       "      <th>text</th>\n",
       "    </tr>\n",
       "  </thead>\n",
       "  <tbody>\n",
       "    <tr>\n",
       "      <th>0</th>\n",
       "      <td>아가씨 담배한갑주소 네 4500원입니다 어 네 지갑어디갔지 에이 버스에서 잃어버렸나...</td>\n",
       "    </tr>\n",
       "    <tr>\n",
       "      <th>1</th>\n",
       "      <td>우리팀에서 다른팀으로 갈 사람 없나? 그럼 영지씨가 가는건 어때?  네? 제가요? ...</td>\n",
       "    </tr>\n",
       "    <tr>\n",
       "      <th>2</th>\n",
       "      <td>너 오늘 그게 뭐야 네 제가 뭘 잘못했나요.? 제대로 좀 하지 네 똑바로 좀 하지 ...</td>\n",
       "    </tr>\n",
       "    <tr>\n",
       "      <th>3</th>\n",
       "      <td>아무튼 앞으로 니가 내 와이파이야. .응 와이파이 온. 켰어. 반말? 주인님이라고도...</td>\n",
       "    </tr>\n",
       "    <tr>\n",
       "      <th>4</th>\n",
       "      <td>그러니까 빨리 말해. 선생님 제발 살려주십시오.  비밀번호 틀릴 때마다 손톱 하나씩...</td>\n",
       "    </tr>\n",
       "  </tbody>\n",
       "</table>\n",
       "</div>"
      ],
      "text/plain": [
       "                                                text\n",
       "0  아가씨 담배한갑주소 네 4500원입니다 어 네 지갑어디갔지 에이 버스에서 잃어버렸나...\n",
       "1  우리팀에서 다른팀으로 갈 사람 없나? 그럼 영지씨가 가는건 어때?  네? 제가요? ...\n",
       "2  너 오늘 그게 뭐야 네 제가 뭘 잘못했나요.? 제대로 좀 하지 네 똑바로 좀 하지 ...\n",
       "3  아무튼 앞으로 니가 내 와이파이야. .응 와이파이 온. 켰어. 반말? 주인님이라고도...\n",
       "4  그러니까 빨리 말해. 선생님 제발 살려주십시오.  비밀번호 틀릴 때마다 손톱 하나씩..."
      ]
     },
     "execution_count": 181,
     "metadata": {},
     "output_type": "execute_result"
    }
   ],
   "source": [
    "test_path =  os.getenv('HOME')+\"/aiffel/prj/test.csv\"\n",
    "df_test = pd.read_csv(test_path)\n",
    "df_test.head()"
   ]
  },
  {
   "cell_type": "code",
   "execution_count": 185,
   "id": "19781d5f",
   "metadata": {},
   "outputs": [
    {
     "data": {
      "text/plain": [
       "array([[0.77544546, 0.0362491 , 0.0731847 , 0.11512072]], dtype=float32)"
      ]
     },
     "execution_count": 185,
     "metadata": {},
     "output_type": "execute_result"
    }
   ],
   "source": [
    "df_test['text'][0]\n",
    "\n",
    "# X_test = []\n",
    "\n",
    "tokenized_sentence = mec.morphs(df_test['text'][0]) # 토큰화\n",
    "# [sep], [cls]\n",
    "# print(tokenized_sentence)\n",
    "stopwords_removed_sentence = [word for word in tokenized_sentence if not word in stopwords] # 불용어 제거\n",
    "# print(stopwords_removed_sentence)\n",
    "# tokenizer_mec.fit_on_texts(stopwords_removed_sentence)\n",
    "x_test = tokenizer_mec.texts_to_sequences([stopwords_removed_sentence])\n",
    "x_test = pad_sequences(x_test, maxlen = 305)\n",
    "x_test\n",
    "\n",
    "loaded_model.predict(x_test)"
   ]
  },
  {
   "cell_type": "code",
   "execution_count": 186,
   "id": "4d117a97",
   "metadata": {},
   "outputs": [],
   "source": [
    "pre_lst = ['협박 대화', '기타 괴롭힘 대화', '갈취 대화', '직장 내 괴롭힘 대화']\n",
    "import re\n",
    "\n",
    "def sentiment_predict(new_sentence):\n",
    "    new_sentence = re.sub(r'[^ㄱ-ㅎㅏ-ㅣ가-힣 ]','', new_sentence)\n",
    "    new_sentence = mec.morphs(new_sentence) # 토큰화\n",
    "    new_sentence = [word for word in new_sentence if not word in stopwords] # 불용어 제거\n",
    "    encoded = tokenizer_mec.texts_to_sequences([new_sentence]) # 정수 인코딩\n",
    "    pad_new = pad_sequences(encoded, maxlen = 305) # 패딩\n",
    "    cls = loaded_model.predict(pad_new).tolist()[0].index(max(loaded_model.predict(pad_new).tolist()[0]))\n",
    "    return pre_lst[cls]\n",
    "#     score = float(loaded_model.predict(pad_new)) # 예측\n"
   ]
  },
  {
   "cell_type": "code",
   "execution_count": 189,
   "id": "c4c16b72",
   "metadata": {},
   "outputs": [
    {
     "data": {
      "text/html": [
       "<div>\n",
       "<style scoped>\n",
       "    .dataframe tbody tr th:only-of-type {\n",
       "        vertical-align: middle;\n",
       "    }\n",
       "\n",
       "    .dataframe tbody tr th {\n",
       "        vertical-align: top;\n",
       "    }\n",
       "\n",
       "    .dataframe thead th {\n",
       "        text-align: right;\n",
       "    }\n",
       "</style>\n",
       "<table border=\"1\" class=\"dataframe\">\n",
       "  <thead>\n",
       "    <tr style=\"text-align: right;\">\n",
       "      <th></th>\n",
       "      <th>text</th>\n",
       "      <th>class</th>\n",
       "    </tr>\n",
       "  </thead>\n",
       "  <tbody>\n",
       "    <tr>\n",
       "      <th>0</th>\n",
       "      <td>아가씨 담배한갑주소 네 4500원입니다 어 네 지갑어디갔지 에이 버스에서 잃어버렸나...</td>\n",
       "      <td>협박 대화</td>\n",
       "    </tr>\n",
       "    <tr>\n",
       "      <th>1</th>\n",
       "      <td>우리팀에서 다른팀으로 갈 사람 없나? 그럼 영지씨가 가는건 어때?  네? 제가요? ...</td>\n",
       "      <td>직장 내 괴롭힘 대화</td>\n",
       "    </tr>\n",
       "    <tr>\n",
       "      <th>2</th>\n",
       "      <td>너 오늘 그게 뭐야 네 제가 뭘 잘못했나요.? 제대로 좀 하지 네 똑바로 좀 하지 ...</td>\n",
       "      <td>직장 내 괴롭힘 대화</td>\n",
       "    </tr>\n",
       "    <tr>\n",
       "      <th>3</th>\n",
       "      <td>아무튼 앞으로 니가 내 와이파이야. .응 와이파이 온. 켰어. 반말? 주인님이라고도...</td>\n",
       "      <td>직장 내 괴롭힘 대화</td>\n",
       "    </tr>\n",
       "    <tr>\n",
       "      <th>4</th>\n",
       "      <td>그러니까 빨리 말해. 선생님 제발 살려주십시오.  비밀번호 틀릴 때마다 손톱 하나씩...</td>\n",
       "      <td>협박 대화</td>\n",
       "    </tr>\n",
       "  </tbody>\n",
       "</table>\n",
       "</div>"
      ],
      "text/plain": [
       "                                                text        class\n",
       "0  아가씨 담배한갑주소 네 4500원입니다 어 네 지갑어디갔지 에이 버스에서 잃어버렸나...        협박 대화\n",
       "1  우리팀에서 다른팀으로 갈 사람 없나? 그럼 영지씨가 가는건 어때?  네? 제가요? ...  직장 내 괴롭힘 대화\n",
       "2  너 오늘 그게 뭐야 네 제가 뭘 잘못했나요.? 제대로 좀 하지 네 똑바로 좀 하지 ...  직장 내 괴롭힘 대화\n",
       "3  아무튼 앞으로 니가 내 와이파이야. .응 와이파이 온. 켰어. 반말? 주인님이라고도...  직장 내 괴롭힘 대화\n",
       "4  그러니까 빨리 말해. 선생님 제발 살려주십시오.  비밀번호 틀릴 때마다 손톱 하나씩...        협박 대화"
      ]
     },
     "execution_count": 189,
     "metadata": {},
     "output_type": "execute_result"
    }
   ],
   "source": [
    "# max((loaded_model.predict(x_test))to_list)\n",
    "# pre_lst = ['협박 대화', '기타 괴롭힘 대화', '갈취 대화', '직장 내 괴롭힘 대화']\n",
    "# loaded_model.predict(x_test).tolist()[0].index(max(loaded_model.predict(x_test).tolist()[0]))\n",
    "# sentiment_predict(df_test.text[0])\n",
    "# df_test.text[1]\n",
    "sentiment_predict(df_test.text[0])\n",
    "df_test.head()\n",
    "df_test['class'] = ''\n",
    "\n",
    "for i in range(len(df_test)):\n",
    "    df_test['class'][i] = sentiment_predict(df_test['text'][i])\n",
    "    \n",
    "df_test.head()"
   ]
  },
  {
   "cell_type": "code",
   "execution_count": 190,
   "id": "e279e729",
   "metadata": {},
   "outputs": [],
   "source": [
    "df_test.to_csv('submission_lstm.csv',index=False, encoding = 'utf-8-sig')"
   ]
  },
  {
   "cell_type": "code",
   "execution_count": 193,
   "id": "16619f7c",
   "metadata": {},
   "outputs": [
    {
     "data": {
      "text/plain": [
       "'우리팀에서 다른팀으로 갈 사람 없나? 그럼 영지씨가 가는건 어때?  네? 제가요? 그렇지? 2달만 파견 잘 갔다오면 승진이야. 네? 저는 별로 가고 싶지 않습니다. 여기 있는 모든사람도 가기 싫어해. 그러니까 막내인 영지씨가 가는게 맞지 정말 죄송합니다. 저는 못갑니다. 장난해? 모두를 위해 영지씨가 희생하는게 싫어? 네. 부당한 방법으로 가는 것 같습니다. 영지씨 안가면 회사생활 오래 못할 것 같은데 그래도 안갈거야? 안가면 지옥일텐데. 그래도 이 방법은 아닌 것 같습니다. 죄송합니다.'"
      ]
     },
     "execution_count": 193,
     "metadata": {},
     "output_type": "execute_result"
    }
   ],
   "source": [
    "df_test['text'][1]"
   ]
  },
  {
   "cell_type": "code",
   "execution_count": null,
   "id": "cc7e104a",
   "metadata": {},
   "outputs": [],
   "source": []
  }
 ],
 "metadata": {
  "kernelspec": {
   "display_name": "Python 3 (ipykernel)",
   "language": "python",
   "name": "python3"
  },
  "language_info": {
   "codemirror_mode": {
    "name": "ipython",
    "version": 3
   },
   "file_extension": ".py",
   "mimetype": "text/x-python",
   "name": "python",
   "nbconvert_exporter": "python",
   "pygments_lexer": "ipython3",
   "version": "3.9.7"
  }
 },
 "nbformat": 4,
 "nbformat_minor": 5
}
