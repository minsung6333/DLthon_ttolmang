{
 "cells": [
  {
   "cell_type": "code",
   "execution_count": 45,
   "id": "7065c274",
   "metadata": {},
   "outputs": [
    {
     "name": "stdout",
     "output_type": "stream",
     "text": [
      "Collecting googletrans==4.0.0-rc1\n",
      "  Downloading googletrans-4.0.0rc1.tar.gz (20 kB)\n",
      "  Preparing metadata (setup.py) ... \u001b[?25ldone\n",
      "\u001b[?25hRequirement already satisfied: httpx==0.13.3 in /opt/conda/lib/python3.9/site-packages (from googletrans==4.0.0-rc1) (0.13.3)\n",
      "Requirement already satisfied: certifi in /opt/conda/lib/python3.9/site-packages (from httpx==0.13.3->googletrans==4.0.0-rc1) (2021.10.8)\n",
      "Requirement already satisfied: sniffio in /opt/conda/lib/python3.9/site-packages (from httpx==0.13.3->googletrans==4.0.0-rc1) (1.2.0)\n",
      "Requirement already satisfied: rfc3986<2,>=1.3 in /opt/conda/lib/python3.9/site-packages (from httpx==0.13.3->googletrans==4.0.0-rc1) (1.5.0)\n",
      "Requirement already satisfied: chardet==3.* in /opt/conda/lib/python3.9/site-packages (from httpx==0.13.3->googletrans==4.0.0-rc1) (3.0.4)\n",
      "Requirement already satisfied: httpcore==0.9.* in /opt/conda/lib/python3.9/site-packages (from httpx==0.13.3->googletrans==4.0.0-rc1) (0.9.1)\n",
      "Requirement already satisfied: idna==2.* in /opt/conda/lib/python3.9/site-packages (from httpx==0.13.3->googletrans==4.0.0-rc1) (2.10)\n",
      "Requirement already satisfied: hstspreload in /opt/conda/lib/python3.9/site-packages (from httpx==0.13.3->googletrans==4.0.0-rc1) (2021.12.1)\n",
      "Requirement already satisfied: h11<0.10,>=0.8 in /opt/conda/lib/python3.9/site-packages (from httpcore==0.9.*->httpx==0.13.3->googletrans==4.0.0-rc1) (0.9.0)\n",
      "Requirement already satisfied: h2==3.* in /opt/conda/lib/python3.9/site-packages (from httpcore==0.9.*->httpx==0.13.3->googletrans==4.0.0-rc1) (3.2.0)\n",
      "Requirement already satisfied: hyperframe<6,>=5.2.0 in /opt/conda/lib/python3.9/site-packages (from h2==3.*->httpcore==0.9.*->httpx==0.13.3->googletrans==4.0.0-rc1) (5.2.0)\n",
      "Requirement already satisfied: hpack<4,>=3.0 in /opt/conda/lib/python3.9/site-packages (from h2==3.*->httpcore==0.9.*->httpx==0.13.3->googletrans==4.0.0-rc1) (3.0.0)\n",
      "Building wheels for collected packages: googletrans\n",
      "  Building wheel for googletrans (setup.py) ... \u001b[?25ldone\n",
      "\u001b[?25h  Created wheel for googletrans: filename=googletrans-4.0.0rc1-py3-none-any.whl size=17415 sha256=068829d36a5933d9eb12fa8372da839f7ceb40b5a72d314fdc951f7eb71634ee\n",
      "  Stored in directory: /aiffel/.cache/pip/wheels/60/b3/27/d8aff3e2d5c2d0d97a117cdf0d5f13cd121e2c2b5fb49b55a0\n",
      "Successfully built googletrans\n",
      "Installing collected packages: googletrans\n",
      "  Attempting uninstall: googletrans\n",
      "    Found existing installation: googletrans 3.0.0\n",
      "    Uninstalling googletrans-3.0.0:\n",
      "      Successfully uninstalled googletrans-3.0.0\n",
      "Successfully installed googletrans-4.0.0rc1\n",
      "\u001b[33mWARNING: Running pip as the 'root' user can result in broken permissions and conflicting behaviour with the system package manager. It is recommended to use a virtual environment instead: https://pip.pypa.io/warnings/venv\u001b[0m\n"
     ]
    }
   ],
   "source": [
    "!pip install googletrans==4.0.0-rc1\n",
    "# 출처: https://intstorage.tistory.com/entry/파이썬을-이용한-구글-번역-API-활용법 [Interesting Story Storage:티스토리]"
   ]
  },
  {
   "cell_type": "code",
   "execution_count": 58,
   "id": "c7eefb0a",
   "metadata": {},
   "outputs": [],
   "source": [
    "from googletrans import Translator\n",
    "translator = Translator()\n",
    "\n",
    "#번역\n",
    "def translate(sentence, type_='en'):\n",
    "    translator = Translator()\n",
    "    temp = translator.translate(sentence, dest=type_)\n",
    "    return translator.translate(temp.text, dest='ko').text"
   ]
  },
  {
   "cell_type": "code",
   "execution_count": 4,
   "id": "0cf95f09",
   "metadata": {},
   "outputs": [],
   "source": [
    "import os\n",
    "import pandas as pd\n",
    "import io\n",
    "import numpy as np\n",
    "import seaborn as sns\n",
    "import matplotlib.pyplot as plt\n",
    "\n",
    "\n",
    "data_path =  os.getenv('HOME')+\"/aiffel/prj/train_bert.csv\"\n",
    "df = pd.read_csv(data_path)"
   ]
  },
  {
   "cell_type": "code",
   "execution_count": 96,
   "id": "77721c14",
   "metadata": {},
   "outputs": [
    {
     "name": "stderr",
     "output_type": "stream",
     "text": [
      "sentencepiece_trainer.cc(177) LOG(INFO) Running command: --input=doc.txt --model_prefix=korean_spm --vocab_size=20000\n",
      "sentencepiece_trainer.cc(77) LOG(INFO) Starts training with : \n",
      "trainer_spec {\n",
      "  input: doc.txt\n",
      "  input_format: \n",
      "  model_prefix: korean_spm\n",
      "  model_type: UNIGRAM\n",
      "  vocab_size: 20000\n",
      "  self_test_sample_size: 0\n",
      "  character_coverage: 0.9995\n",
      "  input_sentence_size: 0\n",
      "  shuffle_input_sentence: 1\n",
      "  seed_sentencepiece_size: 1000000\n",
      "  shrinking_factor: 0.75\n",
      "  max_sentence_length: 4192\n",
      "  num_threads: 16\n",
      "  num_sub_iterations: 2\n",
      "  max_sentencepiece_length: 16\n",
      "  split_by_unicode_script: 1\n",
      "  split_by_number: 1\n",
      "  split_by_whitespace: 1\n",
      "  split_digits: 0\n",
      "  treat_whitespace_as_suffix: 0\n",
      "  allow_whitespace_only_pieces: 0\n",
      "  required_chars: \n",
      "  byte_fallback: 0\n",
      "  vocabulary_output_piece_score: 1\n",
      "  train_extremely_large_corpus: 0\n",
      "  hard_vocab_limit: 1\n",
      "  use_all_vocab: 0\n",
      "  unk_id: 0\n",
      "  bos_id: 1\n",
      "  eos_id: 2\n",
      "  pad_id: -1\n",
      "  unk_piece: <unk>\n",
      "  bos_piece: <s>\n",
      "  eos_piece: </s>\n",
      "  pad_piece: <pad>\n",
      "  unk_surface:  ⁇ \n",
      "}\n",
      "normalizer_spec {\n",
      "  name: nmt_nfkc\n",
      "  add_dummy_prefix: 1\n",
      "  remove_extra_whitespaces: 1\n",
      "  escape_whitespaces: 1\n",
      "  normalization_rule_tsv: \n",
      "}\n",
      "denormalizer_spec {}\n",
      "trainer_interface.cc(329) LOG(INFO) SentenceIterator is not specified. Using MultiFileSentenceIterator.\n",
      "trainer_interface.cc(178) LOG(INFO) Loading corpus: doc.txt\n",
      "trainer_interface.cc(385) LOG(INFO) Loaded all 3950 sentences\n",
      "trainer_interface.cc(400) LOG(INFO) Adding meta_piece: <unk>\n",
      "trainer_interface.cc(400) LOG(INFO) Adding meta_piece: <s>\n",
      "trainer_interface.cc(400) LOG(INFO) Adding meta_piece: </s>\n",
      "trainer_interface.cc(405) LOG(INFO) Normalizing sentences...\n",
      "trainer_interface.cc(466) LOG(INFO) all chars count=845676\n",
      "trainer_interface.cc(477) LOG(INFO) Done: 99.9501% characters are covered.\n",
      "trainer_interface.cc(487) LOG(INFO) Alphabet size=1195\n",
      "trainer_interface.cc(488) LOG(INFO) Final character coverage=0.999501\n",
      "trainer_interface.cc(520) LOG(INFO) Done! preprocessed 3950 sentences.\n",
      "unigram_model_trainer.cc(139) LOG(INFO) Making suffix array...\n",
      "unigram_model_trainer.cc(143) LOG(INFO) Extracting frequent sub strings...\n",
      "unigram_model_trainer.cc(194) LOG(INFO) Initialized 42585 seed sentencepieces\n",
      "trainer_interface.cc(526) LOG(INFO) Tokenizing input sentences with whitespace: 3950\n",
      "trainer_interface.cc(537) LOG(INFO) Done! 51491\n",
      "unigram_model_trainer.cc(489) LOG(INFO) Using 51491 sentences for EM training\n",
      "unigram_model_trainer.cc(505) LOG(INFO) EM sub_iter=0 size=24065 obj=11.6465 num_tokens=101375 num_tokens/piece=4.21255\n",
      "unigram_model_trainer.cc(505) LOG(INFO) EM sub_iter=1 size=21411 obj=10.8989 num_tokens=101823 num_tokens/piece=4.75564\n",
      "trainer_interface.cc(615) LOG(INFO) Saving model: korean_spm.model\n",
      "trainer_interface.cc(626) LOG(INFO) Saving vocabs: korean_spm.vocab\n"
     ]
    },
    {
     "name": "stdout",
     "output_type": "stream",
     "text": [
      "-rw-r--r-- 1 root root 1046622 Nov  7 09:12 korean_spm_large.model\r\n",
      "-rw-r--r-- 1 root root  844303 Nov  7 09:12 korean_spm_large.vocab\r\n",
      "-rw-r--r-- 1 root root  619503 Nov 21 03:55 korean_spm.model\r\n",
      "-rw-r--r-- 1 root root  399760 Nov 21 03:55 korean_spm.vocab\r\n"
     ]
    }
   ],
   "source": [
    "import sentencepiece as spm\n",
    "\n",
    "#sentencepiece 학습\n",
    "with open('doc.txt', 'w', encoding='utf8') as f:\n",
    "    f.write('\\n'.join(df['text']))\n",
    "\n",
    "temp_file = 'doc.txt'\n",
    "vocab_size = 20000\n",
    "\n",
    "spm.SentencePieceTrainer.Train(\n",
    "    '--input={} --model_prefix=korean_spm --vocab_size={}'.format(temp_file, vocab_size)    \n",
    ")\n",
    "\n",
    "!ls -l korean_spm*\n",
    "\n"
   ]
  },
  {
   "cell_type": "code",
   "execution_count": 149,
   "id": "3b8630a7",
   "metadata": {},
   "outputs": [
    {
     "data": {
      "text/plain": [
       "'야 너 휴대폰좀 빌려줘봐 안돼 지난달에도 휴대폰 요금이 너무 많이 나와서 엄마한테 혼났어 알 바야 닥치고 폰이나 내놔 폰 주면 또 결제하려고 그러지  응 게임 캐시 다떨어져서 충전좀 안돼 진짜 맞고 줄래 그냥 줄래 진짜 한번만 더 결제한거 들켰다가는 휴대폰 뺏길지도 몰라 아 씨 오늘따라 왜이렇게 말이 많아 당장 안내놔 제발 '"
      ]
     },
     "execution_count": 149,
     "metadata": {},
     "output_type": "execute_result"
    }
   ],
   "source": [
    "#원문\n",
    "df['text'][11]\n",
    "\n",
    "#국어 > 일어 > 영어 > 국어"
   ]
  },
  {
   "cell_type": "code",
   "execution_count": 158,
   "id": "d6d81521",
   "metadata": {},
   "outputs": [
    {
     "name": "stdout",
     "output_type": "stream",
     "text": [
      "네네 무슨 일 때문에 전화주셨나요 우리 애가 지우개 하나 훔친거 가지고 애들 앞에서 면박줬니 그런게 아니고 댁 내 따님분이 한 두번 훔친것도 아니고 여러번 훔친 게 확인 되어서 경찰부르는건 너무 심할거 같아서 꾸중 한 마디 한겁니다 아니 그 구멍가게 물건이 얼마 한다고 그러냐고 내 애가 맨날 훔친거 확실해 네 본 애들도 있고 확실합니다 됐고 내 애 울면서 하교 했어 이번 일 각오하는 게 좋을거야 너도 애 있다며 제 애까지 끌어들이지 마세요 내 애도 울면서 들어왔는데 그냥 못 넘어가 니 애 죽여버릴거야 이러지 마세요 저도 곤란합니다 단지 교육 차원에서 한 마디 했을 뿐이라고요 됐고 아 저기 네 애 보이네 죽여버릴테니까 니 아들 죽은거 보고 그때 반성해 남 애 함부로 울리면 어떻게 되는지\n",
      "\n",
      "내 아이가 지우개 앞에서 한 지우개를 훔쳐서 부러 뜨렸다. 나는 내 아이가 항상 훔치고 있다고 확신한다. 나는 4 명의 자녀가 있고, 나는 확실히 울고 거부했다.child. 이걸 준비하는 것이 좋다. 나는 그것을 버리지 않는다. 나는 또한 이것을하기가 어려웠다.\n",
      "\n",
      "직업을 위해 무엇을 부르 셨나요?내 아이는 지우개 앞에서 한 지우개를 훔쳐서 파산했습니다.나는 내 아이가 항상 훔치고 있다고 확신합니다.나는 4 명의 자녀가 있고 확실합니다.'확실히 아이를 울고 거부했습니다.이것을 준비하는 것이 좋습니다.나는 그것을 버리지 않습니다.나는 또한 이것을하기가 어려웠다.\n",
      "\n",
      "직업을 위해 무엇을 부르 셨나요?내 아이는 한 번의 지우개를 훔치고 아이들 앞에서 그것을 박살 냈습니다. 나는 내 아이가 항상 훔치고 있다고 확신합니다.나는 4 명의 아이들이 있고 확실합니다. 그리고 나는 아이들을 울고 해산했다고 확신합니다.이것에 대비하는 것이 좋습니다. 나는 그것을 버리지 않을 것입니다.나도 이것도하기가 어려웠다.\n"
     ]
    }
   ],
   "source": [
    "translator = Translator()\n",
    "sentence = df['text'][12]\n",
    "print(sentence)\n",
    "print('')\n",
    "temp = translator.translate(sentence, dest='ja')\n",
    "temp = translator.translate(temp.text, dest='en')\n",
    "print(translator.translate(temp.text, dest='ko').text)\n",
    "print('')\n",
    "print(translate(sentence, type_='ja'))\n",
    "print('')\n",
    "print(translate(sentence))"
   ]
  },
  {
   "cell_type": "code",
   "execution_count": 150,
   "id": "95daf59b",
   "metadata": {},
   "outputs": [
    {
     "data": {
      "text/plain": [
       "'이봐, 당신은 나에게 휴대폰을 빌려 줄 수 없다.지난 달, 나는 많은 휴대 전화를 가지고 있었기 때문에 어머니에게 SC였습니다.휴대폰이있을 수 있습니다.'"
      ]
     },
     "execution_count": 150,
     "metadata": {},
     "output_type": "execute_result"
    }
   ],
   "source": [
    "#일어\n",
    "translate(df['text'][11], type_='ja')"
   ]
  },
  {
   "cell_type": "code",
   "execution_count": 151,
   "id": "81b97c6d",
   "metadata": {},
   "outputs": [
    {
     "data": {
      "text/plain": [
       "'이봐, 당신은 나에게 휴대 전화를 빌려 줄 수 없다.지난 달, 나는 휴대 전화 요금이 많았 기 때문에 엄마에 의해 꾸짖 었습니다. 나는 휴대 전화를 받고 있을지도 모릅니다.'"
      ]
     },
     "execution_count": 151,
     "metadata": {},
     "output_type": "execute_result"
    }
   ],
   "source": [
    "#영어\n",
    "translate(df['text'][11])"
   ]
  },
  {
   "cell_type": "code",
   "execution_count": 38,
   "id": "075ac418",
   "metadata": {},
   "outputs": [
    {
     "data": {
      "text/plain": [
       "'박인턴 올해 나이가 25이라고 했나 네 맞습니다  하 내가 이래서 사회 초년생은 들이려고 안했는데 네 저에게 무슨 문제라도 있으신가요  아니 박인턴이 우리 팀 들어오고 나서 한 번도 제대로 일이 풀린 적이 없지않나 그치만 제가 잘못을 해서 사회생활을 해봤어야 알지 뭐든 어설프고 참  이래서 어린친구들은 쓰고 싶지가 않아 대리님 죄송합니다 그치만 저 폐가 되지 않도록 열심히 업무에 집중하고 있습니다 요즘 애들은 말야 쫌만 힘들면 관두네 어렵네 투덜투덜 아주 회사가 우습지 놀러다니는 데도 아니고 저번에 한 번 전달드린 내용은 정말 제가 미처 전달받지 못했던 업무 내용이라 어려워서 그러니까 아니 애야 학생이야 어떻게 1부터 다 알려주나 그럴거면 학생을 데려다 일 시키지 쯧쯧'"
      ]
     },
     "execution_count": 38,
     "metadata": {},
     "output_type": "execute_result"
    }
   ],
   "source": [
    "df_shuffled = df.sample(frac=1).reset_index(drop=True)\n",
    "# print(df_shuffled)\n",
    "df_shuffled['text'][0]"
   ]
  },
  {
   "cell_type": "code",
   "execution_count": 244,
   "id": "48bc0493",
   "metadata": {},
   "outputs": [],
   "source": [
    "def class_label(data):\n",
    "    class_lst = ['협박 대화', '갈취 대화', '직장 내 괴롭힘 대화', '기타 괴롭힘 대화']\n",
    "\n",
    "    for i in range(len(data)):\n",
    "        if data['class'][i] == class_lst[0]: #협박 대화\n",
    "            data['class'][i] = 0\n",
    "        elif data['class'][i] == class_lst[1]: #갈취 대화\n",
    "            data['class'][i] = 1\n",
    "        elif data['class'][i] == class_lst[2]: #직장 내 괴롭힘 대화\n",
    "            data['class'][i] = 2\n",
    "        elif data['class'][i] == class_lst[3]: #기타 괴롭힘 대화\n",
    "            data['class'][i] = 3\n",
    "    return data\n",
    "    \n",
    "\n",
    "def translate(sentence, type_='en'):\n",
    "    translator = Translator()\n",
    "    temp = translator.translate(sentence, dest=type_)\n",
    "    return translator.translate(temp.text, dest='ko').text\n",
    "\n",
    "def back_translation(data):\n",
    "    data_shuffled = data.sample(frac=1).reset_index(drop=True) #데이터의 위치를 셔플\n",
    "\n",
    "    for i in range(int(len(data)/10)):\n",
    "        if i // 2 == 0:\n",
    "            data_shuffled['text'][i] = translate(data_shuffled['text'][i]) #짝수일경우 kr > en > kr\n",
    "        elif i // 2 ==1:\n",
    "            data_shuffled['text'][i] = translate(data_shuffled['text'][i], type_='ja') #홀수일경우 kr > ja > kr \n",
    "    return data_shuffled\n",
    "\n",
    "\n",
    "\n",
    "# back_translation(df).head()"
   ]
  },
  {
   "cell_type": "code",
   "execution_count": 247,
   "id": "55b35d3b",
   "metadata": {},
   "outputs": [
    {
     "data": {
      "text/html": [
       "<div>\n",
       "<style scoped>\n",
       "    .dataframe tbody tr th:only-of-type {\n",
       "        vertical-align: middle;\n",
       "    }\n",
       "\n",
       "    .dataframe tbody tr th {\n",
       "        vertical-align: top;\n",
       "    }\n",
       "\n",
       "    .dataframe thead th {\n",
       "        text-align: right;\n",
       "    }\n",
       "</style>\n",
       "<table border=\"1\" class=\"dataframe\">\n",
       "  <thead>\n",
       "    <tr style=\"text-align: right;\">\n",
       "      <th></th>\n",
       "      <th>idx</th>\n",
       "      <th>class</th>\n",
       "      <th>conversation</th>\n",
       "      <th>text</th>\n",
       "      <th>bert_text</th>\n",
       "    </tr>\n",
       "  </thead>\n",
       "  <tbody>\n",
       "    <tr>\n",
       "      <th>0</th>\n",
       "      <td>815</td>\n",
       "      <td>2</td>\n",
       "      <td>나씨 초과근무 왜 올리는거에요?\\n네? 그날 사업이 늦게 끝나서요.\\n컴퓨터 앞에 ...</td>\n",
       "      <td>왜 초과 근무를하고 있습니까?당신의 사업이 늦었습니다.</td>\n",
       "      <td>[CLS] 나씨 초과근무 왜 올리는거에요? [SEP] 네? 그날 사업이 늦게 끝나서...</td>\n",
       "    </tr>\n",
       "    <tr>\n",
       "      <th>1</th>\n",
       "      <td>3924</td>\n",
       "      <td>0</td>\n",
       "      <td>때리지 말아줘\\n 아퍼? 아프면 참아봐.\\n나 이미 충분히 병원다니고 있어.\\n병원...</td>\n",
       "      <td>나를 때리지 마십시오. 아프면 병원이되어야합니다.나는 이미 병원에 갈거야.당신은 죽...</td>\n",
       "      <td>[CLS] 때리지 말아줘 [SEP] 아퍼? 아프면 참아봐. [SEP] 나 이미 충분...</td>\n",
       "    </tr>\n",
       "    <tr>\n",
       "      <th>2</th>\n",
       "      <td>2860</td>\n",
       "      <td>2</td>\n",
       "      <td>원영 학생 지금 교수실로 와.\\n예 교수님. 저 지금 스케줄 없습니다.\\n지금 우리...</td>\n",
       "      <td>지금은 일정이 없습니다.지금은 일정이 없습니다.지금은 일정이 없습니다.나는 아들의 ...</td>\n",
       "      <td>[CLS] 원영 학생 지금 교수실로 와. [SEP] 예 교수님. 저 지금 스케줄 없...</td>\n",
       "    </tr>\n",
       "    <tr>\n",
       "      <th>3</th>\n",
       "      <td>2765</td>\n",
       "      <td>2</td>\n",
       "      <td>김선생님 이리 와 보세요\\n네 고선생님 무슨 일이시죠?\\n이런건 왜 쓰고 제자리에 ...</td>\n",
       "      <td>Kim Sun Ray가 여기 있습니다.나는 운이 좋지 않지만 일하러 올 때는 운이 ...</td>\n",
       "      <td>[CLS] 김선생님 이리 와 보세요 [SEP] 네 고선생님 무슨 일이시죠? [SEP...</td>\n",
       "    </tr>\n",
       "    <tr>\n",
       "      <th>4</th>\n",
       "      <td>3563</td>\n",
       "      <td>1</td>\n",
       "      <td>민수야 나 토토하게 5만원만 빌려줘\\n 너 저번에도 3만원 빌리고 안 갚았잖아.\\n...</td>\n",
       "      <td>민수야 나 토토하게 만원만 빌려줘 너 저번에도 만원 빌리고 안 갚았잖아  이번에 따...</td>\n",
       "      <td>[CLS] 민수야 나 토토하게 5만원만 빌려줘 [SEP] 너 저번에도 3만원 빌리고...</td>\n",
       "    </tr>\n",
       "  </tbody>\n",
       "</table>\n",
       "</div>"
      ],
      "text/plain": [
       "    idx class                                       conversation  \\\n",
       "0   815     2  나씨 초과근무 왜 올리는거에요?\\n네? 그날 사업이 늦게 끝나서요.\\n컴퓨터 앞에 ...   \n",
       "1  3924     0  때리지 말아줘\\n 아퍼? 아프면 참아봐.\\n나 이미 충분히 병원다니고 있어.\\n병원...   \n",
       "2  2860     2  원영 학생 지금 교수실로 와.\\n예 교수님. 저 지금 스케줄 없습니다.\\n지금 우리...   \n",
       "3  2765     2  김선생님 이리 와 보세요\\n네 고선생님 무슨 일이시죠?\\n이런건 왜 쓰고 제자리에 ...   \n",
       "4  3563     1  민수야 나 토토하게 5만원만 빌려줘\\n 너 저번에도 3만원 빌리고 안 갚았잖아.\\n...   \n",
       "\n",
       "                                                text  \\\n",
       "0                     왜 초과 근무를하고 있습니까?당신의 사업이 늦었습니다.   \n",
       "1  나를 때리지 마십시오. 아프면 병원이되어야합니다.나는 이미 병원에 갈거야.당신은 죽...   \n",
       "2  지금은 일정이 없습니다.지금은 일정이 없습니다.지금은 일정이 없습니다.나는 아들의 ...   \n",
       "3  Kim Sun Ray가 여기 있습니다.나는 운이 좋지 않지만 일하러 올 때는 운이 ...   \n",
       "4  민수야 나 토토하게 만원만 빌려줘 너 저번에도 만원 빌리고 안 갚았잖아  이번에 따...   \n",
       "\n",
       "                                           bert_text  \n",
       "0  [CLS] 나씨 초과근무 왜 올리는거에요? [SEP] 네? 그날 사업이 늦게 끝나서...  \n",
       "1  [CLS] 때리지 말아줘 [SEP] 아퍼? 아프면 참아봐. [SEP] 나 이미 충분...  \n",
       "2  [CLS] 원영 학생 지금 교수실로 와. [SEP] 예 교수님. 저 지금 스케줄 없...  \n",
       "3  [CLS] 김선생님 이리 와 보세요 [SEP] 네 고선생님 무슨 일이시죠? [SEP...  \n",
       "4  [CLS] 민수야 나 토토하게 5만원만 빌려줘 [SEP] 너 저번에도 3만원 빌리고...  "
      ]
     },
     "execution_count": 247,
     "metadata": {},
     "output_type": "execute_result"
    }
   ],
   "source": [
    "back_translation(df).head()"
   ]
  },
  {
   "cell_type": "code",
   "execution_count": 98,
   "id": "5b55aaaf",
   "metadata": {},
   "outputs": [
    {
     "name": "stdout",
     "output_type": "stream",
     "text": [
      "[149, 551, 3082, 34, 611, 28, 574, 16355, 602, 627, 2346, 3586, 26, 3586, 2076, 7, 393, 634, 16534, 31, 6708, 149, 2654, 9224, 1055, 299, 51, 34, 926, 926, 3120, 3586, 2076, 551, 1744, 19, 89, 64, 7895, 6708, 160, 25, 14880, 160, 144, 352, 19, 1057, 5475, 3586]\n",
      "['▁나는', '▁당신이', '▁스스로', '를', '▁죽', '▁이', '도록', '▁격', '려', '하지', '▁않습니다', '.', '▁죄송합니다', '.', '▁만약', '▁내가', '▁혼자', '▁죽을', '▁것이라', '면', ',', '▁나는', '▁혼자서', '▁죽었', '▁기', '▁때문에', '▁우리', '를', '▁죽이고', '▁죽이고', '▁싶습니다', '.', '▁만약', '▁당신이', '▁그것', '을', '▁할', '▁수', '▁없다면', ',', '▁당신', '은', '▁당신과', '▁당신', '의', '▁가족', '을', '▁죽일', '▁것입니다', '.']\n",
      "나는 당신이 스스로를 죽 이도록 격려하지 않습니다. 죄송합니다. 만약 내가 혼자 죽을 것이라면, 나는 혼자서 죽었 기 때문에 우리를 죽이고 죽이고 싶습니다. 만약 당신이 그것을 할 수 없다면, 당신은 당신과 당신의 가족을 죽일 것입니다.\n"
     ]
    }
   ],
   "source": [
    "#sp 예시\n",
    "s = spm.SentencePieceProcessor()\n",
    "s.Load('korean_spm.model')\n",
    "\n",
    "# SentencePiece를 활용한 sentence -> encoding\n",
    "tokensIDs = s.EncodeAsIds(df['text'][0])\n",
    "print(tokensIDs)\n",
    "\n",
    "# SentencePiece를 활용한 sentence -> encoded pieces\n",
    "print(s.SampleEncodeAsPieces(df['text'][0],1, 0.0))\n",
    "\n",
    "# SentencePiece를 활용한 encoding -> sentence 복원\n",
    "print(s.DecodeIds(tokensIDs))"
   ]
  },
  {
   "cell_type": "code",
   "execution_count": 101,
   "id": "ca68305a",
   "metadata": {},
   "outputs": [
    {
     "data": {
      "text/plain": [
       "['가', '가까스로', '가령', '각', '각각']"
      ]
     },
     "execution_count": 101,
     "metadata": {},
     "output_type": "execute_result"
    }
   ],
   "source": [
    "# 불용어 lst 호출\n",
    "stopwords = []\n",
    "with open(\"stopwords.txt\", \"r\") as f:\n",
    "    for line in f:\n",
    "        stopwords.append(line.replace('\\n',''))#print(line.strip())\n",
    "stopwords[:5]"
   ]
  },
  {
   "cell_type": "code",
   "execution_count": 139,
   "id": "eeccc0db",
   "metadata": {},
   "outputs": [],
   "source": [
    "from tqdm import tqdm\n",
    "from tensorflow.keras.preprocessing.text import Tokenizer\n",
    "from tensorflow.keras.utils import to_categorical\n",
    "from sklearn.model_selection import train_test_split\n",
    "\n",
    "#back translation 데이터를 불용어 및 토큰화 진행\n",
    "\n",
    "def sp_tokenize(data): \n",
    "    train_data = []\n",
    "    data['text'] = data['text'].str.replace(\"[^a-zA-Zㄱ-ㅎㅏ-ㅣ가-힣 ]\",\"\") #특수문자 제거\n",
    "    \n",
    "    for sentence in tqdm(data['text']): #불용어 제거 및 리스트 생성\n",
    "        tokenized_sentence = s.SampleEncodeAsPieces(sentence,1, 0.0)\n",
    "        stopwords_removed_sentence = [word for word in tokenized_sentence if not word in stopwords] # 불용어 제거\n",
    "        train_data.append(stopwords_removed_sentence)\n",
    "    \n",
    "    tokenizer_sp = Tokenizer()\n",
    "    tokenizer_sp.fit_on_texts(train_data)\n",
    "        \n",
    "    vocab_size = len(tokenizer_sp.word_index)\n",
    "    train_data = tokenizer_sp.texts_to_sequences(train_data)\n",
    "    \n",
    "    max_lan = max(len(review) for review in train_data)\n",
    "    \n",
    "    train_data = pad_sequences(train_data, maxlen = max_lan)\n",
    "    \n",
    "    return train_data, vocab_size, tokenizer_sp\n",
    "\n",
    "def y_categori(ydata):\n",
    "    ydata = class_label(ydata)\n",
    "    y=[] \n",
    "    for i in range(len(ydata)):\n",
    "        y.append(ydata['class'][i])\n",
    "    y_data = to_categorical(y)\n",
    "    \n",
    "    return y_data\n",
    "\n"
   ]
  },
  {
   "cell_type": "code",
   "execution_count": 140,
   "id": "3e022a75",
   "metadata": {},
   "outputs": [
    {
     "name": "stderr",
     "output_type": "stream",
     "text": [
      "/tmp/ipykernel_7584/2772842773.py:10: FutureWarning: The default value of regex will change from True to False in a future version.\n",
      "  data['text'] = data['text'].str.replace(\"[^a-zA-Zㄱ-ㅎㅏ-ㅣ가-힣 ]\",\"\") #특수문자 제거\n",
      "100%|██████████| 3950/3950 [00:03<00:00, 1314.35it/s]\n"
     ]
    }
   ],
   "source": [
    "# data augmentation 하려면 1epoch당 하기 파일 한번씩 돌려서 데이터셋 재생성\n",
    "def train_data_set(data,size_=0.1, random_state=None):\n",
    "    data_set = back_translation(data) #data augmentation\n",
    "    X_data, vocab_size, tokenizer_sp = sp_tokenize(data_set)\n",
    "    y_data = y_categori(df)\n",
    "    \n",
    "    x_train, x_valid, y_train, y_valid = train_test_split(X_data, y_data, test_size= size_, shuffle=True, random_state=34)\n",
    "    \n",
    "    return x_train, x_valid, y_train, y_valid\n",
    "\n",
    "x_train, x_valid, y_train, y_valid = train_data_set(df)"
   ]
  },
  {
   "cell_type": "code",
   "execution_count": 161,
   "id": "a4fdd477",
   "metadata": {},
   "outputs": [
    {
     "name": "stderr",
     "output_type": "stream",
     "text": [
      "/tmp/ipykernel_7584/2772842773.py:10: FutureWarning: The default value of regex will change from True to False in a future version.\n",
      "  data['text'] = data['text'].str.replace(\"[^a-zA-Zㄱ-ㅎㅏ-ㅣ가-힣 ]\",\"\") #특수문자 제거\n",
      "100%|██████████| 3950/3950 [00:02<00:00, 1386.17it/s]\n"
     ]
    }
   ],
   "source": [
    "#증강 거치지 않은 데이터 셋\n",
    "X_data, vocab_size, tokenizer_sp = sp_tokenize(df)\n",
    "y_data = y_categori(df)\n",
    "x_train, x_valid, y_train, y_valid = train_test_split(X_data, y_data, test_size= 0.1, shuffle=True, random_state=34)"
   ]
  },
  {
   "cell_type": "code",
   "execution_count": 231,
   "id": "ec9358e4",
   "metadata": {},
   "outputs": [
    {
     "name": "stdout",
     "output_type": "stream",
     "text": [
      "Model: \"sequential_16\"\n",
      "_________________________________________________________________\n",
      "Layer (type)                 Output Shape              Param #   \n",
      "=================================================================\n",
      "embedding_25 (Embedding)     (None, None, 128)         2482304   \n",
      "_________________________________________________________________\n",
      "lstm_20 (LSTM)               (None, 128)               131584    \n",
      "_________________________________________________________________\n",
      "dense_12 (Dense)             (None, 4)                 516       \n",
      "=================================================================\n",
      "Total params: 2,614,404\n",
      "Trainable params: 2,614,404\n",
      "Non-trainable params: 0\n",
      "_________________________________________________________________\n"
     ]
    },
    {
     "data": {
      "image/png": "[encoded data removed]",
      "text/plain": [
       "<IPython.core.display.Image object>"
      ]
     },
     "execution_count": 231,
     "metadata": {},
     "output_type": "execute_result"
    }
   ],
   "source": [
    "from tensorflow.keras.models import Sequential\n",
    "from tensorflow.keras.layers import Dense, LSTM, Embedding\n",
    "from tensorflow.keras.callbacks import EarlyStopping, ModelCheckpoint\n",
    "from tensorflow.keras.models import load_model\n",
    "from tensorflow.keras.layers import Dense, LSTM, Bidirectional, Embedding, GlobalMaxPooling1D\n",
    "from tensorflow.keras.layers import Input, Conv1D, Dropout, Concatenate, Add\n",
    "from keras.models import Model\n",
    "\n",
    "embedding_dim = 128\n",
    "hidden_units = 128\n",
    "num_classes = 4\n",
    "\n",
    "lstm_model = Sequential()\n",
    "lstm_model.add(Embedding(vocab_size, embedding_dim))\n",
    "lstm_model.add(LSTM(hidden_units, dropout=0.1))\n",
    "lstm_model.add(Dense(num_classes, activation='softmax'))\n",
    "\n",
    "lstm_model.summary()\n",
    "tf.keras.utils.plot_model(lstm_model, show_shapes=True)"
   ]
  },
  {
   "cell_type": "code",
   "execution_count": 232,
   "id": "0ef8ad5a",
   "metadata": {},
   "outputs": [
    {
     "name": "stdout",
     "output_type": "stream",
     "text": [
      "Epoch 1/30\n",
      "28/28 [==============================] - 2s 39ms/step - loss: 1.3596 - acc: 0.3783 - val_loss: 1.2350 - val_acc: 0.5848\n",
      "\n",
      "Epoch 00001: val_acc improved from -inf to 0.58481, saving model to best_model.h5\n",
      "Epoch 2/30\n",
      "28/28 [==============================] - 1s 23ms/step - loss: 0.9472 - acc: 0.6805 - val_loss: 0.8332 - val_acc: 0.6633\n",
      "\n",
      "Epoch 00002: val_acc improved from 0.58481 to 0.66329, saving model to best_model.h5\n",
      "Epoch 3/30\n",
      "28/28 [==============================] - 1s 23ms/step - loss: 0.4642 - acc: 0.8419 - val_loss: 0.5749 - val_acc: 0.7848\n",
      "\n",
      "Epoch 00003: val_acc improved from 0.66329 to 0.78481, saving model to best_model.h5\n",
      "Epoch 4/30\n",
      "28/28 [==============================] - 1s 23ms/step - loss: 0.1762 - acc: 0.9536 - val_loss: 0.5265 - val_acc: 0.8152\n",
      "\n",
      "Epoch 00004: val_acc improved from 0.78481 to 0.81519, saving model to best_model.h5\n",
      "Epoch 5/30\n",
      "28/28 [==============================] - 1s 23ms/step - loss: 0.0637 - acc: 0.9859 - val_loss: 0.5402 - val_acc: 0.8101\n",
      "\n",
      "Epoch 00005: val_acc did not improve from 0.81519\n",
      "Epoch 6/30\n",
      "28/28 [==============================] - 1s 23ms/step - loss: 0.0253 - acc: 0.9941 - val_loss: 0.6779 - val_acc: 0.7646\n",
      "\n",
      "Epoch 00006: val_acc did not improve from 0.81519\n",
      "Epoch 7/30\n",
      "28/28 [==============================] - 1s 23ms/step - loss: 0.0410 - acc: 0.9904 - val_loss: 0.6866 - val_acc: 0.7671\n",
      "\n",
      "Epoch 00007: val_acc did not improve from 0.81519\n",
      "Epoch 8/30\n",
      "28/28 [==============================] - 1s 23ms/step - loss: 0.0710 - acc: 0.9910 - val_loss: 0.6451 - val_acc: 0.7848\n",
      "\n",
      "Epoch 00008: val_acc did not improve from 0.81519\n",
      "Epoch 00008: early stopping\n"
     ]
    }
   ],
   "source": [
    "es = EarlyStopping(monitor='val_loss', mode='min', verbose=1, patience=4)\n",
    "mc = ModelCheckpoint('best_model.h5', monitor='val_acc', mode='max', verbose=1, save_best_only=True)\n",
    "\n",
    "lstm_model.compile(loss='categorical_crossentropy', optimizer='adam', metrics=['acc'])\n",
    "lstm_history = lstm_model.fit(x_train, y_train, batch_size=128, epochs=30, callbacks=[es, mc], validation_data=(x_valid, y_valid))"
   ]
  },
  {
   "cell_type": "code",
   "execution_count": 229,
   "id": "c068f898",
   "metadata": {},
   "outputs": [
    {
     "name": "stdout",
     "output_type": "stream",
     "text": [
      "Model: \"sequential_12\"\n",
      "_________________________________________________________________\n",
      "Layer (type)                 Output Shape              Param #   \n",
      "=================================================================\n",
      "embedding_21 (Embedding)     (None, None, 128)         2482304   \n",
      "_________________________________________________________________\n",
      "lstm_16 (LSTM)               (None, 128)               131584    \n",
      "_________________________________________________________________\n",
      "dense_8 (Dense)              (None, 4)                 516       \n",
      "=================================================================\n",
      "Total params: 2,614,404\n",
      "Trainable params: 2,614,404\n",
      "Non-trainable params: 0\n",
      "_________________________________________________________________\n"
     ]
    },
    {
     "data": {
      "image/png": "[encoded data removed]",
      "text/plain": [
       "<IPython.core.display.Image object>"
      ]
     },
     "execution_count": 229,
     "metadata": {},
     "output_type": "execute_result"
    }
   ],
   "source": [
    "bilstm_model = Sequential()\n",
    "bilstm_model.add(Embedding(vocab_size, embedding_dim))\n",
    "bilstm_model.add(Bidirectional(LSTM(hidden_units, dropout=0.1))) # Bidirectional LSTM을 사용\n",
    "bilstm_model.add(Dense(num_classes, activation='softmax'))\n",
    "\n",
    "# tf.keras.layers.Bidirectional(tf.keras.layers.LSTM(units, dropout=dropout_rate)),\n",
    "\n",
    "lstm_model.summary()\n",
    "tf.keras.utils.plot_model(bilstm_model, show_shapes=True)"
   ]
  },
  {
   "cell_type": "code",
   "execution_count": 230,
   "id": "23af49cc",
   "metadata": {},
   "outputs": [
    {
     "name": "stdout",
     "output_type": "stream",
     "text": [
      "Epoch 1/30\n",
      "28/28 [==============================] - 4s 70ms/step - loss: 1.4085 - acc: 0.3412 - val_loss: 1.2203 - val_acc: 0.4456\n",
      "\n",
      "Epoch 00001: val_acc improved from -inf to 0.44557, saving model to best_model_bilstm.h5\n",
      "Epoch 2/30\n",
      "28/28 [==============================] - 1s 45ms/step - loss: 1.2160 - acc: 0.5750 - val_loss: 1.1641 - val_acc: 0.5747\n",
      "\n",
      "Epoch 00002: val_acc improved from 0.44557 to 0.57468, saving model to best_model_bilstm.h5\n",
      "Epoch 3/30\n",
      "28/28 [==============================] - 1s 45ms/step - loss: 0.7439 - acc: 0.7789 - val_loss: 0.7755 - val_acc: 0.7342\n",
      "\n",
      "Epoch 00003: val_acc improved from 0.57468 to 0.73418, saving model to best_model_bilstm.h5\n",
      "Epoch 4/30\n",
      "28/28 [==============================] - 1s 45ms/step - loss: 0.3495 - acc: 0.8987 - val_loss: 0.6241 - val_acc: 0.7797\n",
      "\n",
      "Epoch 00004: val_acc improved from 0.73418 to 0.77975, saving model to best_model_bilstm.h5\n",
      "Epoch 5/30\n",
      "28/28 [==============================] - 1s 45ms/step - loss: 0.1597 - acc: 0.9617 - val_loss: 0.5014 - val_acc: 0.8228\n",
      "\n",
      "Epoch 00005: val_acc improved from 0.77975 to 0.82278, saving model to best_model_bilstm.h5\n",
      "Epoch 6/30\n",
      "28/28 [==============================] - 1s 45ms/step - loss: 0.0680 - acc: 0.9879 - val_loss: 0.5379 - val_acc: 0.8177\n",
      "\n",
      "Epoch 00006: val_acc did not improve from 0.82278\n",
      "Epoch 7/30\n",
      "28/28 [==============================] - 1s 45ms/step - loss: 0.0417 - acc: 0.9924 - val_loss: 0.5321 - val_acc: 0.8354\n",
      "\n",
      "Epoch 00007: val_acc improved from 0.82278 to 0.83544, saving model to best_model_bilstm.h5\n",
      "Epoch 8/30\n",
      "28/28 [==============================] - 1s 45ms/step - loss: 0.0193 - acc: 0.9975 - val_loss: 0.5604 - val_acc: 0.8203\n",
      "\n",
      "Epoch 00008: val_acc did not improve from 0.83544\n",
      "Epoch 9/30\n",
      "28/28 [==============================] - 1s 45ms/step - loss: 0.0233 - acc: 0.9955 - val_loss: 0.5591 - val_acc: 0.8177\n",
      "\n",
      "Epoch 00009: val_acc did not improve from 0.83544\n",
      "Epoch 00009: early stopping\n"
     ]
    }
   ],
   "source": [
    "es = EarlyStopping(monitor='val_loss', mode='min', verbose=1, patience=4)\n",
    "mc = ModelCheckpoint('best_model_bilstm.h5', monitor='val_acc', mode='max', verbose=1, save_best_only=True)\n",
    "\n",
    "bilstm_model.compile(loss='categorical_crossentropy', optimizer='adam', metrics=['acc'])\n",
    "bilstm_history = bilstm_model.fit(x_train, y_train, batch_size=128, epochs=30, callbacks=[es, mc], validation_data=(x_valid, y_valid))"
   ]
  },
  {
   "cell_type": "code",
   "execution_count": 274,
   "id": "d90d3fae",
   "metadata": {},
   "outputs": [
    {
     "name": "stdout",
     "output_type": "stream",
     "text": [
      "13/13 [==============================] - 0s 10ms/step - loss: 0.5265 - acc: 0.8152\n",
      "\n",
      " lstm 테스트 정확도: 0.8152\n"
     ]
    }
   ],
   "source": [
    "loaded_model_lstm = load_model('best_model.h5')\n",
    "print(\"\\n lstm 테스트 정확도: %.4f\" % (loaded_model_lstm.evaluate(x_valid, y_valid)[1]))"
   ]
  },
  {
   "cell_type": "code",
   "execution_count": 273,
   "id": "2d697c8d",
   "metadata": {},
   "outputs": [
    {
     "name": "stdout",
     "output_type": "stream",
     "text": [
      "13/13 [==============================] - 1s 17ms/step - loss: 0.5321 - acc: 0.8354\n",
      "\n",
      " bi_lstm 테스트 정확도: 0.8354\n"
     ]
    }
   ],
   "source": [
    "loaded_model_bilstm = load_model('best_model_bilstm.h5')\n",
    "print(\"\\n bi_lstm 테스트 정확도: %.4f\" % (loaded_model_bilstm.evaluate(x_valid, y_valid)[1]))"
   ]
  },
  {
   "cell_type": "code",
   "execution_count": 248,
   "id": "b9cc02ae",
   "metadata": {},
   "outputs": [
    {
     "name": "stderr",
     "output_type": "stream",
     "text": [
      "/tmp/ipykernel_7584/2772842773.py:10: FutureWarning: The default value of regex will change from True to False in a future version.\n",
      "  data['text'] = data['text'].str.replace(\"[^a-zA-Zㄱ-ㅎㅏ-ㅣ가-힣 ]\",\"\") #특수문자 제거\n",
      "100%|██████████| 3950/3950 [00:03<00:00, 1167.22it/s]\n"
     ]
    },
    {
     "name": "stdout",
     "output_type": "stream",
     "text": [
      "28/28 [==============================] - 1s 27ms/step - loss: 1.6056 - acc: 0.2495 - val_loss: 1.4070 - val_acc: 0.2962\n",
      "\n",
      "Epoch 00001: val_acc improved from -inf to 0.29620, saving model to best_model_lstm_bt.h5\n"
     ]
    },
    {
     "name": "stderr",
     "output_type": "stream",
     "text": [
      "100%|██████████| 3950/3950 [00:03<00:00, 1269.51it/s]\n"
     ]
    },
    {
     "name": "stdout",
     "output_type": "stream",
     "text": [
      "28/28 [==============================] - 1s 28ms/step - loss: 1.4227 - acc: 0.2498 - val_loss: 1.4249 - val_acc: 0.2481\n",
      "\n",
      "Epoch 00001: val_acc did not improve from 0.29620\n"
     ]
    },
    {
     "name": "stderr",
     "output_type": "stream",
     "text": [
      "100%|██████████| 3950/3950 [00:03<00:00, 1219.45it/s]\n"
     ]
    },
    {
     "name": "stdout",
     "output_type": "stream",
     "text": [
      "28/28 [==============================] - 1s 27ms/step - loss: 1.4089 - acc: 0.2478 - val_loss: 1.4203 - val_acc: 0.2278\n",
      "\n",
      "Epoch 00001: val_acc did not improve from 0.29620\n"
     ]
    },
    {
     "name": "stderr",
     "output_type": "stream",
     "text": [
      "100%|██████████| 3950/3950 [00:03<00:00, 1260.20it/s]\n"
     ]
    },
    {
     "name": "stdout",
     "output_type": "stream",
     "text": [
      "28/28 [==============================] - 1s 27ms/step - loss: 1.4075 - acc: 0.2588 - val_loss: 1.3999 - val_acc: 0.2734\n",
      "\n",
      "Epoch 00001: val_acc did not improve from 0.29620\n"
     ]
    },
    {
     "name": "stderr",
     "output_type": "stream",
     "text": [
      "100%|██████████| 3950/3950 [00:03<00:00, 1268.10it/s]\n"
     ]
    },
    {
     "name": "stdout",
     "output_type": "stream",
     "text": [
      "28/28 [==============================] - 1s 27ms/step - loss: 1.3996 - acc: 0.2523 - val_loss: 1.4082 - val_acc: 0.2203\n",
      "\n",
      "Epoch 00001: val_acc did not improve from 0.29620\n"
     ]
    },
    {
     "name": "stderr",
     "output_type": "stream",
     "text": [
      "100%|██████████| 3950/3950 [00:03<00:00, 1286.54it/s]\n"
     ]
    },
    {
     "name": "stdout",
     "output_type": "stream",
     "text": [
      "28/28 [==============================] - 1s 28ms/step - loss: 1.3937 - acc: 0.2608 - val_loss: 1.4065 - val_acc: 0.2253\n",
      "\n",
      "Epoch 00001: val_acc did not improve from 0.29620\n"
     ]
    },
    {
     "name": "stderr",
     "output_type": "stream",
     "text": [
      "100%|██████████| 3950/3950 [00:03<00:00, 1043.10it/s]\n"
     ]
    },
    {
     "name": "stdout",
     "output_type": "stream",
     "text": [
      "28/28 [==============================] - 1s 28ms/step - loss: 1.3919 - acc: 0.2577 - val_loss: 1.3958 - val_acc: 0.2380\n",
      "\n",
      "Epoch 00001: val_acc did not improve from 0.29620\n"
     ]
    },
    {
     "name": "stderr",
     "output_type": "stream",
     "text": [
      "100%|██████████| 3950/3950 [00:03<00:00, 1269.87it/s]\n"
     ]
    },
    {
     "name": "stdout",
     "output_type": "stream",
     "text": [
      "28/28 [==============================] - 1s 27ms/step - loss: 1.3929 - acc: 0.2568 - val_loss: 1.3883 - val_acc: 0.2633\n",
      "\n",
      "Epoch 00001: val_acc did not improve from 0.29620\n"
     ]
    },
    {
     "name": "stderr",
     "output_type": "stream",
     "text": [
      "100%|██████████| 3950/3950 [00:03<00:00, 1282.13it/s]\n"
     ]
    },
    {
     "name": "stdout",
     "output_type": "stream",
     "text": [
      "28/28 [==============================] - 1s 27ms/step - loss: 1.3892 - acc: 0.2686 - val_loss: 1.3860 - val_acc: 0.2911\n",
      "\n",
      "Epoch 00001: val_acc did not improve from 0.29620\n"
     ]
    },
    {
     "name": "stderr",
     "output_type": "stream",
     "text": [
      "100%|██████████| 3950/3950 [00:03<00:00, 1291.82it/s]\n"
     ]
    },
    {
     "name": "stdout",
     "output_type": "stream",
     "text": [
      "28/28 [==============================] - 1s 28ms/step - loss: 1.3885 - acc: 0.2689 - val_loss: 1.3897 - val_acc: 0.2354\n",
      "\n",
      "Epoch 00001: val_acc did not improve from 0.29620\n"
     ]
    }
   ],
   "source": [
    "lstm_model_bt = Sequential()\n",
    "lstm_model_bt.add(Embedding(vocab_size, embedding_dim))\n",
    "lstm_model_bt.add(LSTM(hidden_units, dropout=0.1))\n",
    "lstm_model_bt.add(Dense(num_classes, activation='softmax'))\n",
    "mc = ModelCheckpoint('best_model_lstm_bt.h5', monitor='val_acc', mode='max', verbose=1, save_best_only=True)\n",
    "\n",
    "# lstm_model_bt.summary()\n",
    "# tf.keras.utils.plot_model(lstm_model_bt, show_shapes=True)\n",
    "\n",
    "epoch = 10\n",
    "for i in range(epoch):\n",
    "    x_train_bt, x_valid_bt, y_train_bt, y_valid_bt = train_data_set(df)\n",
    "    lstm_model_bt.compile(loss='categorical_crossentropy', optimizer='adam', metrics=['acc'])\n",
    "    lstm__bt_history = lstm_model.fit(x_train_bt, y_train_bt, batch_size=128, epochs=1, callbacks=[mc], validation_data=(x_valid_bt, y_valid_bt))"
   ]
  },
  {
   "cell_type": "code",
   "execution_count": 251,
   "id": "eeda4a11",
   "metadata": {},
   "outputs": [
    {
     "name": "stdout",
     "output_type": "stream",
     "text": [
      "13/13 [==============================] - 1s 10ms/step - loss: 1.4071 - acc: 0.2456\n",
      "\n",
      " lstm_bt 테스트 정확도: 0.2456\n"
     ]
    }
   ],
   "source": [
    "loaded_model_lstm_bt = load_model('best_model_lstm_bt.h5')\n",
    "print(\"\\n lstm_bt 테스트 정확도: %.4f\" % (loaded_model_lstm_bt.evaluate(x_valid_bt, y_valid_bt)[1]))"
   ]
  },
  {
   "cell_type": "code",
   "execution_count": 249,
   "id": "b81d52fb",
   "metadata": {},
   "outputs": [
    {
     "name": "stderr",
     "output_type": "stream",
     "text": [
      "/tmp/ipykernel_7584/2772842773.py:10: FutureWarning: The default value of regex will change from True to False in a future version.\n",
      "  data['text'] = data['text'].str.replace(\"[^a-zA-Zㄱ-ㅎㅏ-ㅣ가-힣 ]\",\"\") #특수문자 제거\n",
      "100%|██████████| 3950/3950 [00:03<00:00, 1290.16it/s]\n"
     ]
    },
    {
     "name": "stdout",
     "output_type": "stream",
     "text": [
      "28/28 [==============================] - 2s 40ms/step - loss: 1.3855 - acc: 0.2717 - val_loss: 1.3860 - val_acc: 0.2684\n",
      "\n",
      "Epoch 00001: val_acc improved from -inf to 0.26835, saving model to best_model_bilstm_bt.h5\n"
     ]
    },
    {
     "name": "stderr",
     "output_type": "stream",
     "text": [
      "100%|██████████| 3950/3950 [00:03<00:00, 1248.56it/s]\n"
     ]
    },
    {
     "name": "stdout",
     "output_type": "stream",
     "text": [
      "28/28 [==============================] - 3s 40ms/step - loss: 1.3851 - acc: 0.2765 - val_loss: 1.3856 - val_acc: 0.2684\n",
      "\n",
      "Epoch 00001: val_acc did not improve from 0.26835\n"
     ]
    },
    {
     "name": "stderr",
     "output_type": "stream",
     "text": [
      "100%|██████████| 3950/3950 [00:03<00:00, 1245.72it/s]\n"
     ]
    },
    {
     "name": "stdout",
     "output_type": "stream",
     "text": [
      "28/28 [==============================] - 3s 42ms/step - loss: 1.3844 - acc: 0.2740 - val_loss: 1.3848 - val_acc: 0.2709\n",
      "\n",
      "Epoch 00001: val_acc improved from 0.26835 to 0.27089, saving model to best_model_bilstm_bt.h5\n"
     ]
    },
    {
     "name": "stderr",
     "output_type": "stream",
     "text": [
      "100%|██████████| 3950/3950 [00:02<00:00, 1335.37it/s]\n"
     ]
    },
    {
     "name": "stdout",
     "output_type": "stream",
     "text": [
      "28/28 [==============================] - 2s 40ms/step - loss: 1.3851 - acc: 0.2782 - val_loss: 1.3848 - val_acc: 0.2684\n",
      "\n",
      "Epoch 00001: val_acc did not improve from 0.27089\n"
     ]
    },
    {
     "name": "stderr",
     "output_type": "stream",
     "text": [
      "100%|██████████| 3950/3950 [00:03<00:00, 1284.81it/s]\n"
     ]
    },
    {
     "name": "stdout",
     "output_type": "stream",
     "text": [
      "28/28 [==============================] - 2s 40ms/step - loss: 1.3850 - acc: 0.2745 - val_loss: 1.3861 - val_acc: 0.2557\n",
      "\n",
      "Epoch 00001: val_acc did not improve from 0.27089\n"
     ]
    },
    {
     "name": "stderr",
     "output_type": "stream",
     "text": [
      "100%|██████████| 3950/3950 [00:03<00:00, 1293.38it/s]\n"
     ]
    },
    {
     "name": "stdout",
     "output_type": "stream",
     "text": [
      "28/28 [==============================] - 3s 40ms/step - loss: 1.3849 - acc: 0.2790 - val_loss: 1.3880 - val_acc: 0.2658\n",
      "\n",
      "Epoch 00001: val_acc did not improve from 0.27089\n"
     ]
    },
    {
     "name": "stderr",
     "output_type": "stream",
     "text": [
      "100%|██████████| 3950/3950 [00:02<00:00, 1330.63it/s]\n"
     ]
    },
    {
     "name": "stdout",
     "output_type": "stream",
     "text": [
      "28/28 [==============================] - 2s 39ms/step - loss: 1.3844 - acc: 0.2779 - val_loss: 1.3818 - val_acc: 0.2684\n",
      "\n",
      "Epoch 00001: val_acc did not improve from 0.27089\n"
     ]
    },
    {
     "name": "stderr",
     "output_type": "stream",
     "text": [
      "100%|██████████| 3950/3950 [00:02<00:00, 1357.81it/s]\n"
     ]
    },
    {
     "name": "stdout",
     "output_type": "stream",
     "text": [
      "28/28 [==============================] - 2s 40ms/step - loss: 1.3851 - acc: 0.2751 - val_loss: 1.3857 - val_acc: 0.2658\n",
      "\n",
      "Epoch 00001: val_acc did not improve from 0.27089\n"
     ]
    },
    {
     "name": "stderr",
     "output_type": "stream",
     "text": [
      "100%|██████████| 3950/3950 [00:02<00:00, 1333.51it/s]\n"
     ]
    },
    {
     "name": "stdout",
     "output_type": "stream",
     "text": [
      "28/28 [==============================] - 2s 39ms/step - loss: 1.3845 - acc: 0.2731 - val_loss: 1.3852 - val_acc: 0.2684\n",
      "\n",
      "Epoch 00001: val_acc did not improve from 0.27089\n"
     ]
    },
    {
     "name": "stderr",
     "output_type": "stream",
     "text": [
      "100%|██████████| 3950/3950 [00:02<00:00, 1356.74it/s]\n"
     ]
    },
    {
     "name": "stdout",
     "output_type": "stream",
     "text": [
      "28/28 [==============================] - 3s 39ms/step - loss: 1.3845 - acc: 0.2731 - val_loss: 1.3856 - val_acc: 0.2684\n",
      "\n",
      "Epoch 00001: val_acc did not improve from 0.27089\n"
     ]
    },
    {
     "name": "stderr",
     "output_type": "stream",
     "text": [
      "100%|██████████| 3950/3950 [00:02<00:00, 1326.37it/s]\n"
     ]
    },
    {
     "name": "stdout",
     "output_type": "stream",
     "text": [
      "28/28 [==============================] - 2s 39ms/step - loss: 1.3851 - acc: 0.2793 - val_loss: 1.3867 - val_acc: 0.2684\n",
      "\n",
      "Epoch 00001: val_acc did not improve from 0.27089\n"
     ]
    },
    {
     "name": "stderr",
     "output_type": "stream",
     "text": [
      "100%|██████████| 3950/3950 [00:02<00:00, 1324.70it/s]\n"
     ]
    },
    {
     "name": "stdout",
     "output_type": "stream",
     "text": [
      "28/28 [==============================] - 2s 39ms/step - loss: 1.3846 - acc: 0.2790 - val_loss: 1.3837 - val_acc: 0.2684\n",
      "\n",
      "Epoch 00001: val_acc did not improve from 0.27089\n"
     ]
    },
    {
     "name": "stderr",
     "output_type": "stream",
     "text": [
      "100%|██████████| 3950/3950 [00:02<00:00, 1326.54it/s]\n"
     ]
    },
    {
     "name": "stdout",
     "output_type": "stream",
     "text": [
      "28/28 [==============================] - 2s 39ms/step - loss: 1.3837 - acc: 0.2779 - val_loss: 1.3854 - val_acc: 0.2633\n",
      "\n",
      "Epoch 00001: val_acc did not improve from 0.27089\n"
     ]
    },
    {
     "name": "stderr",
     "output_type": "stream",
     "text": [
      "100%|██████████| 3950/3950 [00:02<00:00, 1362.45it/s]\n"
     ]
    },
    {
     "name": "stdout",
     "output_type": "stream",
     "text": [
      "28/28 [==============================] - 2s 39ms/step - loss: 1.3848 - acc: 0.2748 - val_loss: 1.3837 - val_acc: 0.2684\n",
      "\n",
      "Epoch 00001: val_acc did not improve from 0.27089\n"
     ]
    },
    {
     "name": "stderr",
     "output_type": "stream",
     "text": [
      "100%|██████████| 3950/3950 [00:02<00:00, 1319.81it/s]\n"
     ]
    },
    {
     "name": "stdout",
     "output_type": "stream",
     "text": [
      "28/28 [==============================] - 2s 39ms/step - loss: 1.3838 - acc: 0.2779 - val_loss: 1.3874 - val_acc: 0.2658\n",
      "\n",
      "Epoch 00001: val_acc did not improve from 0.27089\n"
     ]
    },
    {
     "name": "stderr",
     "output_type": "stream",
     "text": [
      "100%|██████████| 3950/3950 [00:02<00:00, 1373.77it/s]\n"
     ]
    },
    {
     "name": "stdout",
     "output_type": "stream",
     "text": [
      "28/28 [==============================] - 3s 39ms/step - loss: 1.3838 - acc: 0.2796 - val_loss: 1.3839 - val_acc: 0.2684\n",
      "\n",
      "Epoch 00001: val_acc did not improve from 0.27089\n"
     ]
    },
    {
     "name": "stderr",
     "output_type": "stream",
     "text": [
      "100%|██████████| 3950/3950 [00:02<00:00, 1354.99it/s]\n"
     ]
    },
    {
     "name": "stdout",
     "output_type": "stream",
     "text": [
      "28/28 [==============================] - 2s 40ms/step - loss: 1.3851 - acc: 0.2748 - val_loss: 1.3816 - val_acc: 0.2608\n",
      "\n",
      "Epoch 00001: val_acc did not improve from 0.27089\n"
     ]
    },
    {
     "name": "stderr",
     "output_type": "stream",
     "text": [
      "100%|██████████| 3950/3950 [00:02<00:00, 1332.00it/s]\n"
     ]
    },
    {
     "name": "stdout",
     "output_type": "stream",
     "text": [
      "28/28 [==============================] - 2s 39ms/step - loss: 1.3845 - acc: 0.2790 - val_loss: 1.3826 - val_acc: 0.2658\n",
      "\n",
      "Epoch 00001: val_acc did not improve from 0.27089\n"
     ]
    },
    {
     "name": "stderr",
     "output_type": "stream",
     "text": [
      "100%|██████████| 3950/3950 [00:02<00:00, 1361.27it/s]\n"
     ]
    },
    {
     "name": "stdout",
     "output_type": "stream",
     "text": [
      "28/28 [==============================] - 2s 39ms/step - loss: 1.3852 - acc: 0.2720 - val_loss: 1.3850 - val_acc: 0.2608\n",
      "\n",
      "Epoch 00001: val_acc did not improve from 0.27089\n"
     ]
    },
    {
     "name": "stderr",
     "output_type": "stream",
     "text": [
      "100%|██████████| 3950/3950 [00:02<00:00, 1340.78it/s]\n"
     ]
    },
    {
     "name": "stdout",
     "output_type": "stream",
     "text": [
      "28/28 [==============================] - 2s 40ms/step - loss: 1.3846 - acc: 0.2762 - val_loss: 1.3841 - val_acc: 0.2709\n",
      "\n",
      "Epoch 00001: val_acc did not improve from 0.27089\n"
     ]
    },
    {
     "name": "stderr",
     "output_type": "stream",
     "text": [
      "100%|██████████| 3950/3950 [00:02<00:00, 1351.75it/s]\n"
     ]
    },
    {
     "name": "stdout",
     "output_type": "stream",
     "text": [
      "28/28 [==============================] - 2s 39ms/step - loss: 1.3850 - acc: 0.2751 - val_loss: 1.3840 - val_acc: 0.2658\n",
      "\n",
      "Epoch 00001: val_acc did not improve from 0.27089\n"
     ]
    },
    {
     "name": "stderr",
     "output_type": "stream",
     "text": [
      "100%|██████████| 3950/3950 [00:03<00:00, 1312.35it/s]\n"
     ]
    },
    {
     "name": "stdout",
     "output_type": "stream",
     "text": [
      "28/28 [==============================] - 2s 39ms/step - loss: 1.3845 - acc: 0.2762 - val_loss: 1.3813 - val_acc: 0.2709\n",
      "\n",
      "Epoch 00001: val_acc did not improve from 0.27089\n"
     ]
    },
    {
     "name": "stderr",
     "output_type": "stream",
     "text": [
      "100%|██████████| 3950/3950 [00:02<00:00, 1323.03it/s]\n"
     ]
    },
    {
     "name": "stdout",
     "output_type": "stream",
     "text": [
      "28/28 [==============================] - 3s 39ms/step - loss: 1.3839 - acc: 0.2774 - val_loss: 1.3854 - val_acc: 0.2709\n",
      "\n",
      "Epoch 00001: val_acc did not improve from 0.27089\n"
     ]
    },
    {
     "name": "stderr",
     "output_type": "stream",
     "text": [
      "100%|██████████| 3950/3950 [00:02<00:00, 1338.11it/s]\n"
     ]
    },
    {
     "name": "stdout",
     "output_type": "stream",
     "text": [
      "28/28 [==============================] - 2s 40ms/step - loss: 1.3843 - acc: 0.2774 - val_loss: 1.3877 - val_acc: 0.2734\n",
      "\n",
      "Epoch 00001: val_acc improved from 0.27089 to 0.27342, saving model to best_model_bilstm_bt.h5\n"
     ]
    },
    {
     "name": "stderr",
     "output_type": "stream",
     "text": [
      "100%|██████████| 3950/3950 [00:02<00:00, 1339.97it/s]\n"
     ]
    },
    {
     "name": "stdout",
     "output_type": "stream",
     "text": [
      "28/28 [==============================] - 3s 41ms/step - loss: 1.3844 - acc: 0.2771 - val_loss: 1.3818 - val_acc: 0.2658\n",
      "\n",
      "Epoch 00001: val_acc did not improve from 0.27342\n"
     ]
    },
    {
     "name": "stderr",
     "output_type": "stream",
     "text": [
      "100%|██████████| 3950/3950 [00:02<00:00, 1334.13it/s]\n"
     ]
    },
    {
     "name": "stdout",
     "output_type": "stream",
     "text": [
      "28/28 [==============================] - 2s 40ms/step - loss: 1.3840 - acc: 0.2720 - val_loss: 1.3843 - val_acc: 0.2734\n",
      "\n",
      "Epoch 00001: val_acc did not improve from 0.27342\n"
     ]
    },
    {
     "name": "stderr",
     "output_type": "stream",
     "text": [
      "100%|██████████| 3950/3950 [00:02<00:00, 1365.38it/s]\n"
     ]
    },
    {
     "name": "stdout",
     "output_type": "stream",
     "text": [
      "28/28 [==============================] - 2s 41ms/step - loss: 1.3849 - acc: 0.2748 - val_loss: 1.3871 - val_acc: 0.2785\n",
      "\n",
      "Epoch 00001: val_acc improved from 0.27342 to 0.27848, saving model to best_model_bilstm_bt.h5\n"
     ]
    },
    {
     "name": "stderr",
     "output_type": "stream",
     "text": [
      "100%|██████████| 3950/3950 [00:02<00:00, 1340.35it/s]\n"
     ]
    },
    {
     "name": "stdout",
     "output_type": "stream",
     "text": [
      "28/28 [==============================] - 2s 39ms/step - loss: 1.3851 - acc: 0.2765 - val_loss: 1.3855 - val_acc: 0.2684\n",
      "\n",
      "Epoch 00001: val_acc did not improve from 0.27848\n"
     ]
    },
    {
     "name": "stderr",
     "output_type": "stream",
     "text": [
      "100%|██████████| 3950/3950 [00:02<00:00, 1343.12it/s]\n"
     ]
    },
    {
     "name": "stdout",
     "output_type": "stream",
     "text": [
      "28/28 [==============================] - 2s 40ms/step - loss: 1.3850 - acc: 0.2700 - val_loss: 1.3854 - val_acc: 0.2633\n",
      "\n",
      "Epoch 00001: val_acc did not improve from 0.27848\n"
     ]
    },
    {
     "name": "stderr",
     "output_type": "stream",
     "text": [
      "100%|██████████| 3950/3950 [00:03<00:00, 1276.69it/s]\n"
     ]
    },
    {
     "name": "stdout",
     "output_type": "stream",
     "text": [
      "28/28 [==============================] - 2s 41ms/step - loss: 1.3846 - acc: 0.2782 - val_loss: 1.3859 - val_acc: 0.2633\n",
      "\n",
      "Epoch 00001: val_acc did not improve from 0.27848\n"
     ]
    }
   ],
   "source": [
    "bi_lstm_model_bt = Sequential()\n",
    "bi_lstm_model_bt.add(Embedding(vocab_size, embedding_dim))\n",
    "bi_lstm_model_bt.add(LSTM(hidden_units, dropout=0.1))\n",
    "bi_lstm_model_bt.add(Dense(num_classes, activation='softmax'))\n",
    "mc = ModelCheckpoint('best_model_bilstm_bt.h5', monitor='val_acc', mode='max', verbose=1, save_best_only=True)\n",
    "\n",
    "# lstm_model_bt.summary()\n",
    "# tf.keras.utils.plot_model(lstm_model_bt, show_shapes=True)\n",
    "\n",
    "epoch = 30\n",
    "for i in range(epoch):\n",
    "    x_train_bt, x_valid_bt, y_train_bt, y_valid_bt = train_data_set(df)\n",
    "    bi_lstm_model_bt.compile(loss='categorical_crossentropy', optimizer='adam', metrics=['acc'])\n",
    "    bilstm__bt_history = bi_lstm_model_bt.fit(x_train_bt, y_train_bt, batch_size=128, epochs=1, callbacks=[mc], validation_data=(x_valid_bt, y_valid_bt))"
   ]
  },
  {
   "cell_type": "code",
   "execution_count": 250,
   "id": "2e57205c",
   "metadata": {},
   "outputs": [
    {
     "name": "stdout",
     "output_type": "stream",
     "text": [
      "13/13 [==============================] - 0s 10ms/step - loss: 1.3876 - acc: 0.2608\n",
      "\n",
      " bi_lstm_bt 테스트 정확도: 0.2608\n"
     ]
    }
   ],
   "source": [
    "loaded_model_bilstm_bt = load_model('best_model_bilstm_bt.h5')\n",
    "print(\"\\n bi_lstm_bt 테스트 정확도: %.4f\" % (loaded_model_bilstm_bt.evaluate(x_valid_bt, y_valid_bt)[1]))"
   ]
  },
  {
   "cell_type": "code",
   "execution_count": 233,
   "id": "f2845e23",
   "metadata": {},
   "outputs": [
    {
     "data": {
      "image/png": "[encoded data removed]",
      "text/plain": [
       "<Figure size 432x288 with 1 Axes>"
      ]
     },
     "metadata": {
      "needs_background": "light"
     },
     "output_type": "display_data"
    }
   ],
   "source": [
    "epochs = range(1, len(lstm_history.history['acc']) + 1)\n",
    "plt.plot(epochs, lstm_history.history['loss'])\n",
    "plt.plot(epochs, lstm_history.history['val_loss'])\n",
    "plt.title('lstm model loss')\n",
    "plt.ylabel('loss')\n",
    "plt.xlabel('epoch')\n",
    "plt.legend(['train', 'test'], loc='upper left')\n",
    "plt.show()"
   ]
  },
  {
   "cell_type": "code",
   "execution_count": 234,
   "id": "3c30a826",
   "metadata": {},
   "outputs": [
    {
     "data": {
      "image/png": "[encoded data removed]",
      "text/plain": [
       "<Figure size 432x288 with 1 Axes>"
      ]
     },
     "metadata": {
      "needs_background": "light"
     },
     "output_type": "display_data"
    }
   ],
   "source": [
    "epochs = range(1, len(bilstm_history.history['acc']) + 1)\n",
    "plt.plot(epochs, bilstm_history.history['loss'])\n",
    "plt.plot(epochs, bilstm_history.history['val_loss'])\n",
    "plt.title('bi lstm model loss')\n",
    "plt.ylabel('loss')\n",
    "plt.xlabel('epoch')\n",
    "plt.legend(['train', 'test'], loc='upper left')\n",
    "plt.show()"
   ]
  },
  {
   "cell_type": "code",
   "execution_count": 252,
   "id": "62934bd6",
   "metadata": {},
   "outputs": [
    {
     "data": {
      "text/html": [
       "<div>\n",
       "<style scoped>\n",
       "    .dataframe tbody tr th:only-of-type {\n",
       "        vertical-align: middle;\n",
       "    }\n",
       "\n",
       "    .dataframe tbody tr th {\n",
       "        vertical-align: top;\n",
       "    }\n",
       "\n",
       "    .dataframe thead th {\n",
       "        text-align: right;\n",
       "    }\n",
       "</style>\n",
       "<table border=\"1\" class=\"dataframe\">\n",
       "  <thead>\n",
       "    <tr style=\"text-align: right;\">\n",
       "      <th></th>\n",
       "      <th>Unnamed: 0</th>\n",
       "      <th>text</th>\n",
       "    </tr>\n",
       "  </thead>\n",
       "  <tbody>\n",
       "    <tr>\n",
       "      <th>0</th>\n",
       "      <td>t_000</td>\n",
       "      <td>아가씨 담배한갑주소 네 4500원입니다 어 네 지갑어디갔지 에이 버스에서 잃어버렸나...</td>\n",
       "    </tr>\n",
       "    <tr>\n",
       "      <th>1</th>\n",
       "      <td>t_001</td>\n",
       "      <td>우리팀에서 다른팀으로 갈 사람 없나? 그럼 영지씨가 가는건 어때?  네? 제가요? ...</td>\n",
       "    </tr>\n",
       "    <tr>\n",
       "      <th>2</th>\n",
       "      <td>t_002</td>\n",
       "      <td>너 오늘 그게 뭐야 네 제가 뭘 잘못했나요.? 제대로 좀 하지 네 똑바로 좀 하지 ...</td>\n",
       "    </tr>\n",
       "    <tr>\n",
       "      <th>3</th>\n",
       "      <td>t_004</td>\n",
       "      <td>아무튼 앞으로 니가 내 와이파이야. .응 와이파이 온. 켰어. 반말? 주인님이라고도...</td>\n",
       "    </tr>\n",
       "    <tr>\n",
       "      <th>4</th>\n",
       "      <td>t_005</td>\n",
       "      <td>그러니까 빨리 말해. 선생님 제발 살려주십시오.  비밀번호 틀릴 때마다 손톱 하나씩...</td>\n",
       "    </tr>\n",
       "  </tbody>\n",
       "</table>\n",
       "</div>"
      ],
      "text/plain": [
       "  Unnamed: 0                                               text\n",
       "0      t_000  아가씨 담배한갑주소 네 4500원입니다 어 네 지갑어디갔지 에이 버스에서 잃어버렸나...\n",
       "1      t_001  우리팀에서 다른팀으로 갈 사람 없나? 그럼 영지씨가 가는건 어때?  네? 제가요? ...\n",
       "2      t_002  너 오늘 그게 뭐야 네 제가 뭘 잘못했나요.? 제대로 좀 하지 네 똑바로 좀 하지 ...\n",
       "3      t_004  아무튼 앞으로 니가 내 와이파이야. .응 와이파이 온. 켰어. 반말? 주인님이라고도...\n",
       "4      t_005  그러니까 빨리 말해. 선생님 제발 살려주십시오.  비밀번호 틀릴 때마다 손톱 하나씩..."
      ]
     },
     "execution_count": 252,
     "metadata": {},
     "output_type": "execute_result"
    }
   ],
   "source": [
    "test_path =  os.getenv('HOME')+\"/aiffel/prj/test.csv\"\n",
    "df_test = pd.read_csv(test_path)\n",
    "df_test.head()"
   ]
  },
  {
   "cell_type": "code",
   "execution_count": 294,
   "id": "35aaaa8c",
   "metadata": {},
   "outputs": [
    {
     "name": "stderr",
     "output_type": "stream",
     "text": [
      "/tmp/ipykernel_7584/1772963469.py:4: FutureWarning: The default value of regex will change from True to False in a future version.\n",
      "  df_test['text'] = df_test['text'].str.replace(\"[^a-zA-Zㄱ-ㅎㅏ-ㅣ가-힣 ]\",\"\") #특수문자 제거\n",
      "100%|██████████| 400/400 [00:00<00:00, 1323.44it/s]\n"
     ]
    },
    {
     "data": {
      "text/plain": [
       "array([[   0,    0,    0, ...,  407,  952, 1171],\n",
       "       [   0,    0,    0, ...,   68,  235,   19],\n",
       "       [   0,    0,    0, ...,  338, 3505, 2277],\n",
       "       ...,\n",
       "       [   0,    0,    0, ...,  479,   25,   99],\n",
       "       [   0,    0,    0, ...,   19,  198, 3325],\n",
       "       [   0,    0,    0, ..., 1417,  232,  414]], dtype=int32)"
      ]
     },
     "execution_count": 294,
     "metadata": {},
     "output_type": "execute_result"
    }
   ],
   "source": [
    "df_test.head()\n",
    "\n",
    "train_data = []\n",
    "df_test['text'] = df_test['text'].str.replace(\"[^a-zA-Zㄱ-ㅎㅏ-ㅣ가-힣 ]\",\"\") #특수문자 제거\n",
    "\n",
    "for sentence in tqdm(df_test['text']): #불용어 제거 및 리스트 생성\n",
    "    tokenized_sentence = s.SampleEncodeAsPieces(sentence,1, 0.0)\n",
    "    stopwords_removed_sentence = [word for word in tokenized_sentence if not word in stopwords] # 불용어 제거\n",
    "    train_data.append(stopwords_removed_sentence)\n",
    "\n",
    "tokenizer_sp = Tokenizer()\n",
    "tokenizer_sp.fit_on_texts(train_data)\n",
    "\n",
    "vocab_size = len(tokenizer_sp.word_index)\n",
    "train_data = tokenizer_sp.texts_to_sequences(train_data)\n",
    "\n",
    "max_lan = max(len(review) for review in train_data)\n",
    "\n",
    "train_data = pad_sequences(train_data, maxlen = max_lan)\n",
    "\n",
    "# return train_data, vocab_size, tokenizer_sp\n",
    "train_data"
   ]
  },
  {
   "cell_type": "code",
   "execution_count": 295,
   "id": "f99f347e",
   "metadata": {},
   "outputs": [
    {
     "data": {
      "text/plain": [
       "400"
      ]
     },
     "execution_count": 295,
     "metadata": {},
     "output_type": "execute_result"
    }
   ],
   "source": [
    "train_data[0]"
   ]
  },
  {
   "cell_type": "code",
   "execution_count": 296,
   "id": "28102427",
   "metadata": {},
   "outputs": [
    {
     "name": "stderr",
     "output_type": "stream",
     "text": [
      "/tmp/ipykernel_7584/2772842773.py:10: FutureWarning: The default value of regex will change from True to False in a future version.\n",
      "  data['text'] = data['text'].str.replace(\"[^a-zA-Zㄱ-ㅎㅏ-ㅣ가-힣 ]\",\"\") #특수문자 제거\n",
      "100%|██████████| 400/400 [00:00<00:00, 1300.38it/s]\n"
     ]
    },
    {
     "data": {
      "text/plain": [
       "2"
      ]
     },
     "execution_count": 296,
     "metadata": {},
     "output_type": "execute_result"
    }
   ],
   "source": [
    "pre_lst = ['협박 대화', '갈취 대화', '직장 내 괴롭힘 대화', '기타 괴롭힘 대화']\n",
    "\n",
    "import re\n",
    "X_test_data, vocab_size, tokenizer_sp = sp_tokenize(df_test)\n",
    "\n",
    "def predict_(data, load):\n",
    "#     X_test_data, vocab_size, tokenizer_sp = sp_tokenize(data)\n",
    "    cls = load.predict(data).tolist()[0].index(max(load.predict(data).tolist()[0]))\n",
    "    return cls\n",
    "\n",
    "predict_(X_test_data[0], loaded_model_bilstm)\n",
    "\n",
    "# loaded_model_bilstm_bt loaded_model_lstm_bt loaded_model_bilstm"
   ]
  },
  {
   "cell_type": "code",
   "execution_count": 286,
   "id": "8c14aafd",
   "metadata": {},
   "outputs": [
    {
     "data": {
      "text/plain": [
       "<function ndarray.tolist>"
      ]
     },
     "execution_count": 286,
     "metadata": {},
     "output_type": "execute_result"
    }
   ],
   "source": [
    "loaded_model_lstm.predict(X_test_data[0]).tolist"
   ]
  },
  {
   "cell_type": "code",
   "execution_count": 260,
   "id": "451998c0",
   "metadata": {},
   "outputs": [
    {
     "name": "stderr",
     "output_type": "stream",
     "text": [
      "100%|██████████| 400/400 [00:36<00:00, 10.83it/s]\n",
      "100%|██████████| 400/400 [00:38<00:00, 10.44it/s]\n",
      "100%|██████████| 400/400 [00:40<00:00,  9.81it/s]\n",
      "100%|██████████| 400/400 [00:37<00:00, 10.67it/s]\n"
     ]
    }
   ],
   "source": [
    "model_lst = [loaded_model_bilstm_bt, loaded_model_lstm_bt, loaded_model_bilstm, loaded_model_lstm]\n",
    "\n",
    "X_test_data\n",
    "no_ls = []\n",
    "bt_ls = [] \n",
    "no_bi = []\n",
    "bt_bi = []\n",
    "\n",
    "for i in range(4):\n",
    "    \n",
    "    for j in tqdm(range(400)):\n",
    "        if i ==0:\n",
    "            bt_bi.append(predict(X_test_data[j], model_lst[i]))\n",
    "        elif i == 1:\n",
    "            bt_ls.append(predict(X_test_data[j], model_lst[i]))\n",
    "        elif i == 2:\n",
    "            no_bi.append(predict(X_test_data[j], model_lst[i]))\n",
    "        elif i == 3:\n",
    "            no_ls.append(predict(X_test_data[j], model_lst[i]))\n",
    "            \n",
    "\n",
    "# for i in tqdm(range(400)):\n",
    "#     no_ls.append(predict(X_test_data[i], loaded_model_lstm))\n"
   ]
  },
  {
   "cell_type": "code",
   "execution_count": null,
   "id": "2373ec79",
   "metadata": {},
   "outputs": [],
   "source": []
  }
 ],
 "metadata": {
  "kernelspec": {
   "display_name": "Python 3 (ipykernel)",
   "language": "python",
   "name": "python3"
  },
  "language_info": {
   "codemirror_mode": {
    "name": "ipython",
    "version": 3
   },
   "file_extension": ".py",
   "mimetype": "text/x-python",
   "name": "python",
   "nbconvert_exporter": "python",
   "pygments_lexer": "ipython3",
   "version": "3.9.7"
  }
 },
 "nbformat": 4,
 "nbformat_minor": 5
}
